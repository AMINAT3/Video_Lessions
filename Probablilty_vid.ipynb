{
 "cells": [
  {
   "cell_type": "code",
   "execution_count": 1,
   "id": "5fd98e76-75c5-45eb-ab2d-8307e3e10685",
   "metadata": {},
   "outputs": [
    {
     "ename": "SyntaxError",
     "evalue": "invalid syntax (<ipython-input-1-8a2bfa0842c4>, line 10)",
     "output_type": "error",
     "traceback": [
      "\u001b[1;36m  File \u001b[1;32m\"<ipython-input-1-8a2bfa0842c4>\"\u001b[1;36m, line \u001b[1;32m10\u001b[0m\n\u001b[1;33m    trials[]\u001b[0m\n\u001b[1;37m           ^\u001b[0m\n\u001b[1;31mSyntaxError\u001b[0m\u001b[1;31m:\u001b[0m invalid syntax\n"
     ]
    }
   ],
   "source": [
    "import random\n",
    "def coin_trial():\n",
    "    heads= 0 \n",
    "for i in range(100):\n",
    "    if random.random()<= 0.5:\n",
    "        heads += 1\n",
    "return heads\n",
    "\n",
    "def stimulate(n):\n",
    "    trials[]\n",
    "for i in range(n):\n",
    "    trials.append(coin_trial())return(sum(trials)/n)"
   ]
  },
  {
   "cell_type": "code",
   "execution_count": 2,
   "id": "29d281b2-0271-4399-99bf-447cfcc900df",
   "metadata": {},
   "outputs": [
    {
     "name": "stdout",
     "output_type": "stream",
     "text": [
      "13.0\n"
     ]
    }
   ],
   "source": [
    "cards=52\n",
    "aces=4\n",
    "amina= cards/aces\n",
    "print(round(amina,2))\n"
   ]
  },
  {
   "cell_type": "code",
   "execution_count": 12,
   "id": "1f2aa3e2-e607-49ee-b7e3-077475a1a5b2",
   "metadata": {},
   "outputs": [
    {
     "name": "stdout",
     "output_type": "stream",
     "text": [
      "0.08\n"
     ]
    }
   ],
   "source": [
    "cards=52\n",
    "aces=4\n",
    "ace_probability= aces/cards\n",
    "print(round(ace_probability,2))\n"
   ]
  },
  {
   "cell_type": "code",
   "execution_count": 11,
   "id": "86f8b605-6772-4079-8864-890248982bbf",
   "metadata": {},
   "outputs": [
    {
     "name": "stdout",
     "output_type": "stream",
     "text": [
      "8.0%\n"
     ]
    }
   ],
   "source": [
    "ace_probability_percent = ace_probability*100\n",
    "print(str(round(ace_probability_percent,0)) + '%')"
   ]
  },
  {
   "cell_type": "code",
   "execution_count": 22,
   "id": "63fdd6c9-da99-4af3-b3b7-b1eb4ca530b1",
   "metadata": {},
   "outputs": [],
   "source": [
    "def event_probability(event_outcomes,sample_space):\n",
    "    probability=(event_outcomes/sample_space) * 100\n",
    "    return round(probability,1)    \n",
    "\n",
    "\n",
    "cards=52\n",
    "\n",
    "hearts=13\n",
    "hearts = 13\n",
    "heart_probability = event_probability(hearts, cards)"
   ]
  },
  {
   "cell_type": "code",
   "execution_count": 8,
   "id": "49bb864c-fa7f-420a-83a7-274a7eb08ba8",
   "metadata": {},
   "outputs": [],
   "source": [
    "face_cards = 12\n",
    "face_card_probability = event_probability(face_cards, cards)"
   ]
  },
  {
   "cell_type": "code",
   "execution_count": 10,
   "id": "88e07044-0455-4710-8730-be9e59b1e92c",
   "metadata": {},
   "outputs": [],
   "source": [
    "queen_of_hearts = 1\n",
    "queen_of_hearts_probability = event_probability(queen_of_hearts, cards)"
   ]
  },
  {
   "cell_type": "code",
   "execution_count": 11,
   "id": "0712cd27-b4ad-4cf8-a61a-fcea5868761d",
   "metadata": {},
   "outputs": [
    {
     "name": "stdout",
     "output_type": "stream",
     "text": [
      "25.0%\n",
      "23.1%\n",
      "1.9%\n"
     ]
    }
   ],
   "source": [
    "print(str(heart_probability) +'%')\n",
    "print(str(face_card_probability) +'%')\n",
    "print(str(queen_of_hearts_probability) +'%')"
   ]
  },
  {
   "cell_type": "markdown",
   "id": "843974c4-4c4a-4f09-87e4-72604c946c1e",
   "metadata": {},
   "source": [
    "### Permutation codes"
   ]
  },
  {
   "cell_type": "code",
   "execution_count": 15,
   "id": "71d07537-bfa7-428f-ab90-59c2c9418f1c",
   "metadata": {},
   "outputs": [],
   "source": [
    "import math\n",
    "n = 4\n",
    "k =2\n"
   ]
  },
  {
   "cell_type": "code",
   "execution_count": 16,
   "id": "10f2966e-e72c-469c-a478-9a98ffa2f50b",
   "metadata": {},
   "outputs": [
    {
     "name": "stdout",
     "output_type": "stream",
     "text": [
      "12.0\n"
     ]
    }
   ],
   "source": [
    "permutation = math.factorial(n) /math.factorial(k)\n",
    "print(permutation)"
   ]
  },
  {
   "cell_type": "code",
   "execution_count": 17,
   "id": "2a09df5d-3398-4ee1-9087-f46a1132b915",
   "metadata": {},
   "outputs": [
    {
     "name": "stdout",
     "output_type": "stream",
     "text": [
      "2652.0\n"
     ]
    }
   ],
   "source": [
    "n=52\n",
    "k=2\n",
    "permutations = math.factorial(n) / math.factorial(n-k)\n",
    "print(permutations)"
   ]
  },
  {
   "cell_type": "code",
   "execution_count": 18,
   "id": "d24040ce-3ca8-4eb7-ab78-9e4d6cefaedc",
   "metadata": {},
   "outputs": [
    {
     "name": "stdout",
     "output_type": "stream",
     "text": [
      "1326.0\n"
     ]
    }
   ],
   "source": [
    "combination=permutations/math.factorial(k)\n",
    "print(combination)"
   ]
  },
  {
   "cell_type": "code",
   "execution_count": 19,
   "id": "c7d69e3f-f7e0-4272-bdda-1b9ba5207080",
   "metadata": {},
   "outputs": [],
   "source": [
    "cards=52\n",
    "hole_cards=2\n",
    "turn_community_cards=4\n",
    "card= cards - (hole_cards + turn_community_cards)\n",
    "diamonds=13\n",
    "diamond_dry=4\n",
    "outs= diamonds-diamond_dry\n",
    "outs= diamonds-diamond_dry"
   ]
  },
  {
   "cell_type": "code",
   "execution_count": 23,
   "id": "015a42d6-1ca3-4900-90d6-fe4a7bc7a495",
   "metadata": {},
   "outputs": [
    {
     "name": "stdout",
     "output_type": "stream",
     "text": [
      "19.6\n"
     ]
    }
   ],
   "source": [
    "flush_probability = event_probability(outs,card)\n",
    "print(flush_probability)"
   ]
  },
  {
   "cell_type": "code",
   "execution_count": 24,
   "id": "3f5b6fdc-9d1b-4426-b233-80b111622d09",
   "metadata": {},
   "outputs": [
    {
     "name": "stdout",
     "output_type": "stream",
     "text": [
      "17.4\n"
     ]
    }
   ],
   "source": [
    "cards = 52\n",
    "hole_cards = 2\n",
    "turn_community_cards=4\n",
    "cards = cards - (hole_cards + turn_community_cards)\n",
    "\n",
    "\n",
    "eights = 4\n",
    "kings = 4\n",
    "outs = eights + kings\n",
    "\n",
    "\n",
    "river_straight_probability = event_probability (outs, cards)\n",
    "print(river_straight_probability)"
   ]
  },
  {
   "cell_type": "markdown",
   "id": "170a9271-9d53-4883-89ae-508beb927b61",
   "metadata": {},
   "source": [
    "### mutually exclusve events"
   ]
  },
  {
   "cell_type": "code",
   "execution_count": 26,
   "id": "6ae3f8bd-dd5a-42b8-a8df-925104da4282",
   "metadata": {},
   "outputs": [
    {
     "name": "stdout",
     "output_type": "stream",
     "text": [
      "50.0\n",
      "23.1\n"
     ]
    }
   ],
   "source": [
    "cards = 52\n",
    "\n",
    "hearts = 13\n",
    "clubs  = 13 \n",
    "heart_or_club = event_probability(hearts, cards) +event_probability(clubs, cards)\n",
    "\n",
    "aces = 4\n",
    "kings = 4\n",
    "queens = 4\n",
    "ace_king_or_queen = event_probability(aces, cards) + event_probability(kings, cards) + event_probability(queens, cards)\n",
    "\n",
    "print(heart_or_club)\n",
    "print(ace_king_or_queen)"
   ]
  },
  {
   "cell_type": "markdown",
   "id": "a497ac4c-d866-4efc-b734-29420426fe59",
   "metadata": {},
   "source": [
    "### non mutually exclusive events"
   ]
  },
  {
   "cell_type": "code",
   "execution_count": 30,
   "id": "dc0b1310-0b02-4226-b2e1-a25c6a9b7437",
   "metadata": {},
   "outputs": [
    {
     "name": "stdout",
     "output_type": "stream",
     "text": [
      "30.8\n",
      "61.6\n"
     ]
    }
   ],
   "source": [
    "cards = 52\n",
    "\n",
    "hearts = 13\n",
    "aces = 4\n",
    "ace_of_hearts = 1\n",
    "heart_or_ace = event_probability(hearts, cards) + event_probability(aces, cards)  - event_probability(ace_of_hearts, cards)\n",
    "\n",
    "red_cards = 26\n",
    "face_cards = 12\n",
    "red_face_cards = 6\n",
    "red_or_face_cards = event_probability(red_cards, cards) + event_probability(face_cards, cards) - event_probability(red_face_cards, cards)\n",
    "\n",
    "print(round(heart_or_ace, 1))\n",
    "print(round(red_or_face_cards, 1))"
   ]
  },
  {
   "cell_type": "markdown",
   "id": "5b234d34-fc0b-406d-878e-821b2dd2952a",
   "metadata": {},
   "source": [
    "### Independent events"
   ]
  },
  {
   "cell_type": "code",
   "execution_count": 32,
   "id": "675d5e83-2582-4a88-bdaa-03d424bde9ab",
   "metadata": {},
   "outputs": [
    {
     "name": "stdout",
     "output_type": "stream",
     "text": [
      "0.6\n"
     ]
    }
   ],
   "source": [
    "cards = 52\n",
    "\n",
    "\n",
    "aces = 4\n",
    "\n",
    "ace_probability = aces / cards\n",
    "\n",
    "two_aces_probability = ace_probability * ace_probability  \n",
    "\n",
    "two_aces_probability_percent = two_aces_probability * 100\n",
    "print(round(two_aces_probability_percent, 1))"
   ]
  },
  {
   "cell_type": "markdown",
   "id": "e6dd679b-9d7b-4cee-9580-3a4202eab1eb",
   "metadata": {},
   "source": [
    "### intersection of dependent events "
   ]
  },
  {
   "cell_type": "code",
   "execution_count": 33,
   "id": "3636a54f-627b-4899-b56e-47a73b94b1ed",
   "metadata": {},
   "outputs": [
    {
     "name": "stdout",
     "output_type": "stream",
     "text": [
      "0.4524886877828055\n"
     ]
    }
   ],
   "source": [
    "cards = 52\n",
    "\n",
    "aces = 4\n",
    "\n",
    "first_ace_probability = aces / cards\n",
    "\n",
    "cards = cards - 1\n",
    "aces = aces - 1\n",
    "\n",
    "second_ace_probability = aces / cards\n",
    "\n",
    "both_aces_probability = first_ace_probability * second_ace_probability *100\n",
    "print(both_aces_probability)"
   ]
  },
  {
   "cell_type": "markdown",
   "id": "6ad6c9a8-8ecd-497b-b854-a58238e500fe",
   "metadata": {},
   "source": [
    "### Expected values"
   ]
  },
  {
   "cell_type": "code",
   "execution_count": 34,
   "id": "df1e1dce-8a8e-478b-86aa-f1d92487b56b",
   "metadata": {},
   "outputs": [
    {
     "name": "stdout",
     "output_type": "stream",
     "text": [
      "75.0\n"
     ]
    }
   ],
   "source": [
    "pot = 100\n",
    "probability = 0.75\n",
    "expected_value = pot * probability\n",
    "print(expected_value)"
   ]
  },
  {
   "cell_type": "code",
   "execution_count": 35,
   "id": "b3ac9998-0164-4c1a-96c9-75ae14dee98e",
   "metadata": {},
   "outputs": [
    {
     "name": "stdout",
     "output_type": "stream",
     "text": [
      "9.55 Fold\n"
     ]
    }
   ],
   "source": [
    "cards = 52\n",
    "hole_cards = 2\n",
    "\n",
    "opponents_hole_cards = 2\n",
    "\n",
    "turn_community_cards = 4\n",
    "cards = cards - (hole_cards + opponents_hole_cards + turn_community_cards)\n",
    "\n",
    "diamonds = 13\n",
    "diamonds_drwan = 4\n",
    "\n",
    "daimonds_non_outs = 2\n",
    "outs = diamonds - diamonds_drwan - daimonds_non_outs\n",
    "\n",
    "win_probability = outs / cards \n",
    "\n",
    "pot = 60\n",
    "ev = pot * win_probability\n",
    "\n",
    "call_amount = 20\n",
    "if ev >= 20:\n",
    "    print(round(ev, 2), 'Call')\n",
    "else:\n",
    "    print(round(ev, 2), 'Fold')"
   ]
  },
  {
   "cell_type": "code",
   "execution_count": null,
   "id": "e68c415f-ff23-441b-9317-0e3d88e80bfd",
   "metadata": {},
   "outputs": [],
   "source": []
  }
 ],
 "metadata": {
  "kernelspec": {
   "display_name": "Python 3",
   "language": "python",
   "name": "python3"
  },
  "language_info": {
   "codemirror_mode": {
    "name": "ipython",
    "version": 3
   },
   "file_extension": ".py",
   "mimetype": "text/x-python",
   "name": "python",
   "nbconvert_exporter": "python",
   "pygments_lexer": "ipython3",
   "version": "3.8.8"
  }
 },
 "nbformat": 4,
 "nbformat_minor": 5
}
