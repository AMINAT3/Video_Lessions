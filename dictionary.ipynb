{
 "cells": [
  {
   "cell_type": "code",
   "execution_count": 4,
   "id": "11bdb8a0-9545-461a-8565-7eace783b7c9",
   "metadata": {},
   "outputs": [],
   "source": [
    "my_dictionary = {'key1' : 'value1', 'key2' : 'value2', 'key3': 'value3'}"
   ]
  },
  {
   "cell_type": "code",
   "execution_count": 5,
   "id": "0dcf8e00-c169-4461-814d-de4c7aca4745",
   "metadata": {},
   "outputs": [
    {
     "data": {
      "text/plain": [
       "'value2'"
      ]
     },
     "execution_count": 5,
     "metadata": {},
     "output_type": "execute_result"
    }
   ],
   "source": [
    "my_dictionary['key2']"
   ]
  },
  {
   "cell_type": "code",
   "execution_count": 12,
   "id": "e46ab37a-5b4c-40ab-9fbf-dc1adb5268f1",
   "metadata": {},
   "outputs": [
    {
     "data": {
      "text/plain": [
       "[12, 33, 44]"
      ]
     },
     "execution_count": 12,
     "metadata": {},
     "output_type": "execute_result"
    }
   ],
   "source": [
    "my_dictionary = {'key1' : 1234556, 'key2' : 'string', 'key3': [12,33,44], 'key4': ['item1', 'item2', 'item3']}\n",
    "my_dictionary['key3']"
   ]
  },
  {
   "cell_type": "code",
   "execution_count": 8,
   "id": "852061b3-04c4-4c54-a7b4-856e50fe1aa9",
   "metadata": {},
   "outputs": [
    {
     "data": {
      "text/plain": [
       "33"
      ]
     },
     "execution_count": 8,
     "metadata": {},
     "output_type": "execute_result"
    }
   ],
   "source": [
    "my_dictionary['key3'][1]"
   ]
  },
  {
   "cell_type": "code",
   "execution_count": null,
   "id": "5cdcf97c-ac01-4379-98f7-9760c863ad31",
   "metadata": {},
   "outputs": [],
   "source": []
  },
  {
   "cell_type": "code",
   "execution_count": null,
   "id": "b115fe37-de73-45ef-896b-507062f008a4",
   "metadata": {},
   "outputs": [],
   "source": []
  },
  {
   "cell_type": "code",
   "execution_count": null,
   "id": "0e552ce5-847f-4416-a685-70847b5aef39",
   "metadata": {},
   "outputs": [],
   "source": []
  },
  {
   "cell_type": "code",
   "execution_count": null,
   "id": "a91b7302-fbd2-4570-87cf-41c809b84560",
   "metadata": {},
   "outputs": [],
   "source": []
  },
  {
   "cell_type": "code",
   "execution_count": 13,
   "id": "032bc579-c30d-4fe8-97bb-2f3cee2d0224",
   "metadata": {},
   "outputs": [
    {
     "data": {
      "text/plain": [
       "'ITEM1'"
      ]
     },
     "execution_count": 13,
     "metadata": {},
     "output_type": "execute_result"
    }
   ],
   "source": [
    "my_dictionary['key4'][0].upper()"
   ]
  },
  {
   "cell_type": "code",
   "execution_count": null,
   "id": "fdc5c2d3-9251-4721-99ba-63ef7db392cd",
   "metadata": {},
   "outputs": [],
   "source": []
  },
  {
   "cell_type": "code",
   "execution_count": 14,
   "id": "5891733c-91a8-4cc9-9994-c6eb62d6b379",
   "metadata": {},
   "outputs": [
    {
     "data": {
      "text/plain": [
       "1234556"
      ]
     },
     "execution_count": 14,
     "metadata": {},
     "output_type": "execute_result"
    }
   ],
   "source": [
    "my_dictionary['key1']"
   ]
  },
  {
   "cell_type": "code",
   "execution_count": 15,
   "id": "66376a35-17ef-40cd-b5fa-65061d60e14e",
   "metadata": {},
   "outputs": [],
   "source": [
    "my_dictionary['key1'] -=123"
   ]
  },
  {
   "cell_type": "code",
   "execution_count": 16,
   "id": "e80ac1aa-3437-4ef5-b453-181258abc107",
   "metadata": {},
   "outputs": [
    {
     "data": {
      "text/plain": [
       "1234433"
      ]
     },
     "execution_count": 16,
     "metadata": {},
     "output_type": "execute_result"
    }
   ],
   "source": [
    "my_dictionary['key1']"
   ]
  },
  {
   "cell_type": "code",
   "execution_count": 17,
   "id": "c2391042-4a1b-4d12-9829-07c4bcb27ac9",
   "metadata": {},
   "outputs": [],
   "source": [
    "d ={}"
   ]
  },
  {
   "cell_type": "code",
   "execution_count": 18,
   "id": "0bf24e30-ec6e-47be-8bb3-2a080a270864",
   "metadata": {},
   "outputs": [],
   "source": [
    "d['animal'] = 'cat'"
   ]
  },
  {
   "cell_type": "code",
   "execution_count": 19,
   "id": "8401f41a-cb84-47ff-968a-932deb169057",
   "metadata": {},
   "outputs": [],
   "source": [
    "d['age']= '3'"
   ]
  },
  {
   "cell_type": "code",
   "execution_count": 20,
   "id": "8ae44cce-cbdf-4047-9ad2-ac7c42c69309",
   "metadata": {},
   "outputs": [],
   "source": [
    "d['name'] ='kitty'"
   ]
  },
  {
   "cell_type": "code",
   "execution_count": 21,
   "id": "edd29ab0-5e10-406f-92ce-88e2d0cc37f7",
   "metadata": {},
   "outputs": [
    {
     "data": {
      "text/plain": [
       "{'animal': 'cat', 'age': '3', 'name': 'kitty'}"
      ]
     },
     "execution_count": 21,
     "metadata": {},
     "output_type": "execute_result"
    }
   ],
   "source": [
    "d"
   ]
  },
  {
   "cell_type": "code",
   "execution_count": 22,
   "id": "62916880-51fd-438c-a01a-70a269ca4611",
   "metadata": {},
   "outputs": [],
   "source": [
    "d = {'key1' : {'nestkey' : {'subnestkey': 'value'}}}"
   ]
  },
  {
   "cell_type": "code",
   "execution_count": 23,
   "id": "0d1f828d-5951-4568-af7b-7d7bf4fc0cb4",
   "metadata": {},
   "outputs": [
    {
     "data": {
      "text/plain": [
       "'value'"
      ]
     },
     "execution_count": 23,
     "metadata": {},
     "output_type": "execute_result"
    }
   ],
   "source": [
    "d['key1']['nestkey']['subnestkey']"
   ]
  },
  {
   "cell_type": "code",
   "execution_count": 28,
   "id": "77861e2b-d968-47df-8fa2-091ed2bea91b",
   "metadata": {},
   "outputs": [],
   "source": [
    "d = {'key1': 2,'key2': 4, 'key3': 6}"
   ]
  },
  {
   "cell_type": "code",
   "execution_count": 30,
   "id": "0f950bbf-90fd-466c-b727-65319c23cdeb",
   "metadata": {},
   "outputs": [
    {
     "data": {
      "text/plain": [
       "dict_keys(['key1', 'key2', 'key3'])"
      ]
     },
     "execution_count": 30,
     "metadata": {},
     "output_type": "execute_result"
    }
   ],
   "source": [
    "d.keys()"
   ]
  },
  {
   "cell_type": "code",
   "execution_count": 31,
   "id": "0c8cc611-1160-4a99-9f2e-bc53e1e4dfcc",
   "metadata": {},
   "outputs": [
    {
     "data": {
      "text/plain": [
       "dict_values([2, 4, 6])"
      ]
     },
     "execution_count": 31,
     "metadata": {},
     "output_type": "execute_result"
    }
   ],
   "source": [
    "d.values()"
   ]
  },
  {
   "cell_type": "code",
   "execution_count": 32,
   "id": "ac40c51a-4a8f-41ba-a820-30ea5c98c01b",
   "metadata": {},
   "outputs": [
    {
     "data": {
      "text/plain": [
       "dict_items([('key1', 2), ('key2', 4), ('key3', 6)])"
      ]
     },
     "execution_count": 32,
     "metadata": {},
     "output_type": "execute_result"
    }
   ],
   "source": [
    "d.items()"
   ]
  },
  {
   "cell_type": "code",
   "execution_count": 23,
   "id": "7e4a7d10-7cf8-4258-8a13-48ca68dfb3f5",
   "metadata": {},
   "outputs": [],
   "source": [
    "values = list(\"the man has a beautiful sister\")"
   ]
  },
  {
   "cell_type": "code",
   "execution_count": 45,
   "id": "0a11715b-fe26-485f-b6a6-d4a388d8d3b7",
   "metadata": {},
   "outputs": [
    {
     "data": {
      "text/plain": [
       "False"
      ]
     },
     "execution_count": 45,
     "metadata": {},
     "output_type": "execute_result"
    }
   ],
   "source": [
    "'man' in values"
   ]
  },
  {
   "cell_type": "code",
   "execution_count": 24,
   "id": "77010504-4746-4207-901e-c1f49210b7be",
   "metadata": {},
   "outputs": [
    {
     "data": {
      "text/plain": [
       "True"
      ]
     },
     "execution_count": 24,
     "metadata": {},
     "output_type": "execute_result"
    }
   ],
   "source": [
    "'a' in values"
   ]
  },
  {
   "cell_type": "code",
   "execution_count": 47,
   "id": "67ce7762-cbbe-4a33-9b56-7f934bed72a4",
   "metadata": {},
   "outputs": [
    {
     "data": {
      "text/plain": [
       "True"
      ]
     },
     "execution_count": 47,
     "metadata": {},
     "output_type": "execute_result"
    }
   ],
   "source": [
    "'b' in values"
   ]
  },
  {
   "cell_type": "code",
   "execution_count": 83,
   "id": "bc2fcf7e-aea9-4272-a4d3-64a4bfcc5dca",
   "metadata": {},
   "outputs": [],
   "source": [
    "dict1 = {\"key\":1,\"key2\":2}"
   ]
  },
  {
   "cell_type": "code",
   "execution_count": 88,
   "id": "9846e22f-fee4-44e3-8924-ac8eb588d48b",
   "metadata": {},
   "outputs": [],
   "source": [
    "dict2 = {\"key2\":2, \"key1\":1}\n",
    "dict2 = dict2 = dict1"
   ]
  },
  {
   "cell_type": "code",
   "execution_count": 59,
   "id": "38fa298b-1bde-49b8-9efb-ff34a9a547b7",
   "metadata": {},
   "outputs": [
    {
     "name": "stdout",
     "output_type": "stream",
     "text": [
      "False\n"
     ]
    }
   ],
   "source": [
    "print(dict1 == dict2)"
   ]
  },
  {
   "cell_type": "code",
   "execution_count": 96,
   "id": "3c780765-c0a5-4356-bcc1-d85b140a3281",
   "metadata": {},
   "outputs": [],
   "source": [
    "student ={1:{'name': \"emma\", \"age\": \"27\", \"sex\": \"female\"}, \n",
    "          2:{\"name\": \"mike\", \"age\": \"22\", \"sex\": \"male\"}}"
   ]
  },
  {
   "cell_type": "code",
   "execution_count": 102,
   "id": "1a041ef3-595c-4332-a7fc-03e269812765",
   "metadata": {},
   "outputs": [
    {
     "ename": "AttributeError",
     "evalue": "'dict' object has no attribute 'remove'",
     "output_type": "error",
     "traceback": [
      "\u001b[1;31m---------------------------------------------------------------------------\u001b[0m",
      "\u001b[1;31mAttributeError\u001b[0m                            Traceback (most recent call last)",
      "\u001b[1;32m<ipython-input-102-60ec479ab919>\u001b[0m in \u001b[0;36m<module>\u001b[1;34m\u001b[0m\n\u001b[1;32m----> 1\u001b[1;33m \u001b[0mstudent\u001b[0m\u001b[1;33m.\u001b[0m\u001b[0mremove\u001b[0m\u001b[1;33m(\u001b[0m\u001b[1;33m)\u001b[0m\u001b[1;33m\u001b[0m\u001b[1;33m\u001b[0m\u001b[0m\n\u001b[0m\u001b[0;32m      2\u001b[0m \u001b[0mprint\u001b[0m\u001b[1;33m(\u001b[0m\u001b[0mstudent\u001b[0m\u001b[1;33m)\u001b[0m\u001b[1;33m\u001b[0m\u001b[1;33m\u001b[0m\u001b[0m\n",
      "\u001b[1;31mAttributeError\u001b[0m: 'dict' object has no attribute 'remove'"
     ]
    }
   ],
   "source": [
    "student.remove()\n",
    "print(student)"
   ]
  },
  {
   "cell_type": "code",
   "execution_count": 69,
   "id": "990159c6-3d8f-43e3-a1fb-cefd21a96f5b",
   "metadata": {},
   "outputs": [],
   "source": [
    "dict1 = {\"name\": \"mike\", \"salary\":\"8000\"}"
   ]
  },
  {
   "cell_type": "code",
   "execution_count": 70,
   "id": "a8e5b1a2-9fe6-4682-8934-3510c3babe17",
   "metadata": {},
   "outputs": [
    {
     "ename": "KeyError",
     "evalue": "'age'",
     "output_type": "error",
     "traceback": [
      "\u001b[1;31m---------------------------------------------------------------------------\u001b[0m",
      "\u001b[1;31mKeyError\u001b[0m                                  Traceback (most recent call last)",
      "\u001b[1;32m<ipython-input-70-368db9800edc>\u001b[0m in \u001b[0;36m<module>\u001b[1;34m\u001b[0m\n\u001b[1;32m----> 1\u001b[1;33m \u001b[0mtemp\u001b[0m \u001b[1;33m=\u001b[0m \u001b[0mdict1\u001b[0m\u001b[1;33m.\u001b[0m\u001b[0mpop\u001b[0m\u001b[1;33m(\u001b[0m\u001b[1;34m\"age\"\u001b[0m\u001b[1;33m)\u001b[0m\u001b[1;33m\u001b[0m\u001b[1;33m\u001b[0m\u001b[0m\n\u001b[0m\u001b[0;32m      2\u001b[0m \u001b[0mprint\u001b[0m\u001b[1;33m(\u001b[0m\u001b[0mtemp\u001b[0m\u001b[1;33m)\u001b[0m\u001b[1;33m\u001b[0m\u001b[1;33m\u001b[0m\u001b[0m\n",
      "\u001b[1;31mKeyError\u001b[0m: 'age'"
     ]
    }
   ],
   "source": [
    "temp = dict1.pop(\"age\")\n",
    "print(temp)"
   ]
  },
  {
   "cell_type": "code",
   "execution_count": 76,
   "id": "16e0d8ba-2332-412c-bc11-bb02e7299d15",
   "metadata": {},
   "outputs": [],
   "source": [
    "d = {'foo': 100, 'bar': 200, 'baz': 300}"
   ]
  },
  {
   "cell_type": "code",
   "execution_count": 79,
   "id": "5e598e31-7394-4f47-bddb-f6350e127f9e",
   "metadata": {},
   "outputs": [
    {
     "ename": "AttributeError",
     "evalue": "'dict' object has no attribute 'remove'",
     "output_type": "error",
     "traceback": [
      "\u001b[1;31m---------------------------------------------------------------------------\u001b[0m",
      "\u001b[1;31mAttributeError\u001b[0m                            Traceback (most recent call last)",
      "\u001b[1;32m<ipython-input-79-14c0a4f2853f>\u001b[0m in \u001b[0;36m<module>\u001b[1;34m\u001b[0m\n\u001b[1;32m----> 1\u001b[1;33m \u001b[0md\u001b[0m\u001b[1;33m.\u001b[0m\u001b[0mremove\u001b[0m\u001b[1;33m(\u001b[0m\u001b[1;34m'bar'\u001b[0m\u001b[1;33m)\u001b[0m\u001b[1;33m\u001b[0m\u001b[1;33m\u001b[0m\u001b[0m\n\u001b[0m",
      "\u001b[1;31mAttributeError\u001b[0m: 'dict' object has no attribute 'remove'"
     ]
    }
   ],
   "source": [
    "d.remove('bar')"
   ]
  },
  {
   "cell_type": "code",
   "execution_count": 57,
   "id": "dc286683-096d-4a7c-aeff-0157deb0ee2c",
   "metadata": {},
   "outputs": [],
   "source": [
    "def greeting(name):\n",
    "    print(\"hello\" + name)\n",
    "    print(greeting('Daddy'))"
   ]
  },
  {
   "cell_type": "code",
   "execution_count": 19,
   "id": "3b12ec08-d350-4b3b-9335-d42c6cd38add",
   "metadata": {},
   "outputs": [],
   "source": [
    "def adder(x, y):\n",
    "   "
   ]
  },
  {
   "cell_type": "code",
   "execution_count": 59,
   "id": "3b99bbd4-a21c-49f8-8f33-2a17f79fce99",
   "metadata": {},
   "outputs": [
    {
     "ename": "IndentationError",
     "evalue": "unexpected indent (<ipython-input-59-31bc848ff5db>, line 2)",
     "output_type": "error",
     "traceback": [
      "\u001b[1;36m  File \u001b[1;32m\"<ipython-input-59-31bc848ff5db>\"\u001b[1;36m, line \u001b[1;32m2\u001b[0m\n\u001b[1;33m    print(adder)(\"1\",\"2\")\u001b[0m\n\u001b[1;37m    ^\u001b[0m\n\u001b[1;31mIndentationError\u001b[0m\u001b[1;31m:\u001b[0m unexpected indent\n"
     ]
    }
   ],
   "source": [
    " print (\"x + y\")\n",
    "    print(adder)(\"1\",\"2\")"
   ]
  },
  {
   "cell_type": "code",
   "execution_count": 41,
   "id": "7602bfe1-9b95-4203-ba12-c9f73c41f9d9",
   "metadata": {},
   "outputs": [],
   "source": [
    "x = 67"
   ]
  },
  {
   "cell_type": "code",
   "execution_count": 46,
   "id": "dc4879c6-6ee3-42e1-8002-b8f0065fb832",
   "metadata": {},
   "outputs": [
    {
     "name": "stdout",
     "output_type": "stream",
     "text": [
      "x is equal to 67\n"
     ]
    }
   ],
   "source": [
    "if x !=67:\n",
    "    print (\"x is not equal to 67\")\n",
    "else:\n",
    "        print('x is equal to 67')"
   ]
  },
  {
   "cell_type": "code",
   "execution_count": 27,
   "id": "e6e3459d-2521-4e3d-a11f-f6baa96c1ebe",
   "metadata": {},
   "outputs": [],
   "source": [
    "x = 'asa'"
   ]
  },
  {
   "cell_type": "code",
   "execution_count": 29,
   "id": "3e2457ca-25c7-4a10-8e53-24793d73a53f",
   "metadata": {},
   "outputs": [
    {
     "name": "stdout",
     "output_type": "stream",
     "text": [
      "asaasaasa\n"
     ]
    }
   ],
   "source": [
    "print(x*3)"
   ]
  },
  {
   "cell_type": "code",
   "execution_count": 30,
   "id": "62bc15a4-7618-447f-be62-591e0104e571",
   "metadata": {},
   "outputs": [],
   "source": [
    "x = \"this is a string\""
   ]
  },
  {
   "cell_type": "code",
   "execution_count": 39,
   "id": "a0c2a5c0-7bd4-409c-b1b6-1c79ef27b86c",
   "metadata": {},
   "outputs": [
    {
     "name": "stdout",
     "output_type": "stream",
     "text": [
      "this is a string\n",
      "<function hello at 0x03B22A48>\n"
     ]
    }
   ],
   "source": [
    "def hello():\n",
    "    x = \"hello\"\n",
    "print(x)\n",
    "print(hello)"
   ]
  },
  {
   "cell_type": "code",
   "execution_count": null,
   "id": "9571d56f-ea09-4b85-ba97-d69543ccaf3d",
   "metadata": {},
   "outputs": [],
   "source": [
    "def hello():"
   ]
  },
  {
   "cell_type": "code",
   "execution_count": 40,
   "id": "260d4182-11ff-4c0b-a119-a0ae3593604c",
   "metadata": {},
   "outputs": [
    {
     "name": "stdout",
     "output_type": "stream",
     "text": [
      "hello\n"
     ]
    }
   ],
   "source": [
    "print (\"hello\")\n",
    "def start():\n",
    "    print(\"start\")\n",
    "    start()"
   ]
  },
  {
   "cell_type": "code",
   "execution_count": null,
   "id": "18b380f6-d5a9-4ff7-a772-efa039a14634",
   "metadata": {},
   "outputs": [],
   "source": [
    "quiz = {\"Do you help out at home?\", do you beleive in Santa\":\"yes\"}"
   ]
  }
 ],
 "metadata": {
  "kernelspec": {
   "display_name": "Python 3",
   "language": "python",
   "name": "python3"
  },
  "language_info": {
   "codemirror_mode": {
    "name": "ipython",
    "version": 3
   },
   "file_extension": ".py",
   "mimetype": "text/x-python",
   "name": "python",
   "nbconvert_exporter": "python",
   "pygments_lexer": "ipython3",
   "version": "3.8.8"
  }
 },
 "nbformat": 4,
 "nbformat_minor": 5
}
