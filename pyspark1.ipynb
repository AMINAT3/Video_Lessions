{
 "cells": [
  {
   "cell_type": "code",
   "execution_count": 1,
   "id": "841de380",
   "metadata": {},
   "outputs": [],
   "source": [
    "import pyspark"
   ]
  },
  {
   "cell_type": "code",
   "execution_count": 2,
   "id": "f68d6c7b",
   "metadata": {},
   "outputs": [],
   "source": [
    "import pandas as pd"
   ]
  },
  {
   "cell_type": "code",
   "execution_count": 3,
   "id": "5be0d82c",
   "metadata": {},
   "outputs": [
    {
     "data": {
      "text/html": [
       "<div>\n",
       "<style scoped>\n",
       "    .dataframe tbody tr th:only-of-type {\n",
       "        vertical-align: middle;\n",
       "    }\n",
       "\n",
       "    .dataframe tbody tr th {\n",
       "        vertical-align: top;\n",
       "    }\n",
       "\n",
       "    .dataframe thead th {\n",
       "        text-align: right;\n",
       "    }\n",
       "</style>\n",
       "<table border=\"1\" class=\"dataframe\">\n",
       "  <thead>\n",
       "    <tr style=\"text-align: right;\">\n",
       "      <th></th>\n",
       "      <th>Name</th>\n",
       "      <th>age</th>\n",
       "      <th>Experience</th>\n",
       "      <th>Salary</th>\n",
       "    </tr>\n",
       "  </thead>\n",
       "  <tbody>\n",
       "    <tr>\n",
       "      <th>0</th>\n",
       "      <td>Krish</td>\n",
       "      <td>31</td>\n",
       "      <td>10</td>\n",
       "      <td>30000</td>\n",
       "    </tr>\n",
       "    <tr>\n",
       "      <th>1</th>\n",
       "      <td>Sudhanshu</td>\n",
       "      <td>30</td>\n",
       "      <td>8</td>\n",
       "      <td>25000</td>\n",
       "    </tr>\n",
       "    <tr>\n",
       "      <th>2</th>\n",
       "      <td>Sunny</td>\n",
       "      <td>29</td>\n",
       "      <td>4</td>\n",
       "      <td>20000</td>\n",
       "    </tr>\n",
       "    <tr>\n",
       "      <th>3</th>\n",
       "      <td>Paul</td>\n",
       "      <td>24</td>\n",
       "      <td>3</td>\n",
       "      <td>20000</td>\n",
       "    </tr>\n",
       "    <tr>\n",
       "      <th>4</th>\n",
       "      <td>Harsha</td>\n",
       "      <td>21</td>\n",
       "      <td>1</td>\n",
       "      <td>15000</td>\n",
       "    </tr>\n",
       "    <tr>\n",
       "      <th>5</th>\n",
       "      <td>Shubham</td>\n",
       "      <td>23</td>\n",
       "      <td>2</td>\n",
       "      <td>18000</td>\n",
       "    </tr>\n",
       "  </tbody>\n",
       "</table>\n",
       "</div>"
      ],
      "text/plain": [
       "        Name  age  Experience  Salary\n",
       "0      Krish   31          10   30000\n",
       "1  Sudhanshu   30           8   25000\n",
       "2      Sunny   29           4   20000\n",
       "3       Paul   24           3   20000\n",
       "4     Harsha   21           1   15000\n",
       "5    Shubham   23           2   18000"
      ]
     },
     "execution_count": 3,
     "metadata": {},
     "output_type": "execute_result"
    }
   ],
   "source": [
    "pd.read_csv('test1.csv')"
   ]
  },
  {
   "cell_type": "code",
   "execution_count": 4,
   "id": "ae452e92",
   "metadata": {},
   "outputs": [],
   "source": [
    "from pyspark.sql import SparkSession"
   ]
  },
  {
   "cell_type": "code",
   "execution_count": 5,
   "id": "a027f39a",
   "metadata": {},
   "outputs": [],
   "source": [
    "spark = SparkSession.builder.appName('Practise').getOrCreate"
   ]
  },
  {
   "cell_type": "code",
   "execution_count": 13,
   "id": "ffe04d32",
   "metadata": {},
   "outputs": [
    {
     "data": {
      "text/plain": [
       "<bound method SparkSession.Builder.getOrCreate of <pyspark.sql.session.SparkSession.Builder object at 0x000001B8A978B8B0>>"
      ]
     },
     "execution_count": 13,
     "metadata": {},
     "output_type": "execute_result"
    }
   ],
   "source": [
    "spark"
   ]
  },
  {
   "cell_type": "code",
   "execution_count": null,
   "id": "c55e6809",
   "metadata": {},
   "outputs": [],
   "source": [
    "df_pyspark = spark.read.csv('test1.csv')"
   ]
  },
  {
   "cell_type": "code",
   "execution_count": null,
   "id": "1dbbdcfd",
   "metadata": {},
   "outputs": [],
   "source": [
    "import pyspark\n",
    "spark = SparkSession.builder.appName('Practise').getOrCreate()"
   ]
  },
  {
   "cell_type": "markdown",
   "id": "21b396cc-f3d3-4c5a-b0bb-eed1f51695d1",
   "metadata": {},
   "source": [
    "### pyspark groupy"
   ]
  },
  {
   "cell_type": "code",
   "execution_count": 1,
   "id": "6d0033f6-9668-41f5-93b5-7b8ce033853e",
   "metadata": {},
   "outputs": [],
   "source": [
    "from pyspark.sql import SparkSession"
   ]
  },
  {
   "cell_type": "code",
   "execution_count": null,
   "id": "fb1bdf08-0748-4ad7-af00-b84df3fbe0df",
   "metadata": {},
   "outputs": [],
   "source": [
    "spark = SparkSession.builder.appName('Age').getOrCreate()\n"
   ]
  },
  {
   "cell_type": "code",
   "execution_count": null,
   "id": "8e432295-743a-430c-897c-dee30bee5ade",
   "metadata": {},
   "outputs": [],
   "source": [
    "spark"
   ]
  },
  {
   "cell_type": "code",
   "execution_count": null,
   "id": "b77c471a-b567-4815-91c6-f67f0548f9e7",
   "metadata": {},
   "outputs": [],
   "source": [
    "df_pyspark = spark.read.csv('test3.csv', header = True, inferSchema = True)"
   ]
  },
  {
   "cell_type": "code",
   "execution_count": null,
   "id": "2ea44348-915e-4bce-accb-1fbedaa7f627",
   "metadata": {},
   "outputs": [],
   "source": [
    "df_pyspark.show()"
   ]
  },
  {
   "cell_type": "code",
   "execution_count": null,
   "id": "0a533cb7-9e42-4cd2-8b74-eea267bff4c7",
   "metadata": {},
   "outputs": [],
   "source": [
    "df_spark.printSchema()"
   ]
  },
  {
   "cell_type": "code",
   "execution_count": null,
   "id": "41beebb5-3d16-494b-be38-63657cce1e16",
   "metadata": {},
   "outputs": [],
   "source": [
    "df_spark.groupBy('Name')"
   ]
  },
  {
   "cell_type": "code",
   "execution_count": null,
   "id": "c45b3209-8ac8-43ab-aef7-11d1d0a7b8d7",
   "metadata": {},
   "outputs": [],
   "source": [
    "df_spark.groupBy('Name').sum()"
   ]
  },
  {
   "cell_type": "code",
   "execution_count": null,
   "id": "fd6141e2-7cd3-4314-91af-5220ce4661bf",
   "metadata": {},
   "outputs": [],
   "source": [
    "df_spark.groupBy('Name').sum().show()"
   ]
  },
  {
   "cell_type": "code",
   "execution_count": null,
   "id": "4a1e3a95-7479-49e1-bf2c-23a612bf4d80",
   "metadata": {},
   "outputs": [],
   "source": [
    "df_spark.groupBy('Name').max().show()"
   ]
  },
  {
   "cell_type": "code",
   "execution_count": null,
   "id": "8a917892-4465-4beb-84c4-091f36bebf61",
   "metadata": {},
   "outputs": [],
   "source": [
    "df_spark.groupBy('Departments').sum().show()"
   ]
  },
  {
   "cell_type": "code",
   "execution_count": null,
   "id": "d8af30cd-bb7b-4eb1-9f12-e6bb19c20878",
   "metadata": {},
   "outputs": [],
   "source": [
    "df_spark.groupBy('Departments').avg().show()"
   ]
  },
  {
   "cell_type": "code",
   "execution_count": null,
   "id": "d960757c-4e7a-4563-b1f1-4553f28b8347",
   "metadata": {},
   "outputs": [],
   "source": [
    "df_spark.groupBy('Departments').mean().show()"
   ]
  },
  {
   "cell_type": "code",
   "execution_count": null,
   "id": "c985c9f3-aaca-4c56-b458-79e4645676b1",
   "metadata": {},
   "outputs": [],
   "source": [
    "df_spark.groupBy('Departments').count().show()"
   ]
  },
  {
   "cell_type": "code",
   "execution_count": null,
   "id": "f762a396-d6ba-4589-8dc1-e9feefe35280",
   "metadata": {},
   "outputs": [],
   "source": [
    "df_spark.agg({'salary': 'sum'}).show"
   ]
  },
  {
   "cell_type": "code",
   "execution_count": null,
   "id": "093c18c7-0d02-484a-a751-eb35b4f6d2b8",
   "metadata": {},
   "outputs": [],
   "source": []
  },
  {
   "cell_type": "code",
   "execution_count": null,
   "id": "dbfc2abe-b64e-4fa0-afa9-162cd9b8613c",
   "metadata": {},
   "outputs": [],
   "source": []
  },
  {
   "cell_type": "code",
   "execution_count": null,
   "id": "2ecf1068-8253-42b0-9b4a-a24226df381f",
   "metadata": {},
   "outputs": [],
   "source": [
    "spark = SparkSession.builder.appName('Missing').getOrCreate()"
   ]
  },
  {
   "cell_type": "code",
   "execution_count": null,
   "id": "57b10100-839a-45b3-9cd6-5f737fb7c466",
   "metadata": {},
   "outputs": [],
   "source": [
    "training = spark.read.csv('test1.csv', header = True, inferSchema = True)"
   ]
  },
  {
   "cell_type": "code",
   "execution_count": null,
   "id": "4c10e53d-d5ce-47e9-baa6-ba3ec96b7533",
   "metadata": {},
   "outputs": [],
   "source": [
    "training.show()"
   ]
  },
  {
   "cell_type": "code",
   "execution_count": null,
   "id": "8756107a-1e92-413c-989c-80e9401d54b5",
   "metadata": {},
   "outputs": [],
   "source": [
    "training.printSchema()"
   ]
  },
  {
   "cell_type": "code",
   "execution_count": null,
   "id": "cfd6b301-c1ee-48f2-b2e7-4beaa298d98a",
   "metadata": {},
   "outputs": [],
   "source": [
    "training.columns()"
   ]
  },
  {
   "cell_type": "code",
   "execution_count": null,
   "id": "371b0251-c355-4e57-82d9-e343769a60c0",
   "metadata": {},
   "outputs": [],
   "source": [
    "[Age,Experience]"
   ]
  },
  {
   "cell_type": "code",
   "execution_count": null,
   "id": "5576a4da-c078-426f-9752-26b27c4e014a",
   "metadata": {},
   "outputs": [],
   "source": [
    "from pyspark.ml.feature VectorAssembler\n",
    "assembler = VectorAssembler(inputcols = ['Age','Experience'],outputcol = 'Independent Features')"
   ]
  },
  {
   "cell_type": "code",
   "execution_count": null,
   "id": "4c01e6c2-eaad-476b-8f8a-efc583a3354c",
   "metadata": {},
   "outputs": [],
   "source": [
    "output = featureassembler.transform(training)"
   ]
  },
  {
   "cell_type": "code",
   "execution_count": null,
   "id": "e063250d-25c4-4705-9d6b-9ffbef5ce17e",
   "metadata": {},
   "outputs": [],
   "source": [
    "output.show()"
   ]
  },
  {
   "cell_type": "code",
   "execution_count": null,
   "id": "81cf6aae-2386-4a1b-ad13-7c135586acbb",
   "metadata": {},
   "outputs": [],
   "source": [
    "output.columns()"
   ]
  },
  {
   "cell_type": "code",
   "execution_count": null,
   "id": "29296013-acf4-4846-b4f3-5651b1aa2c32",
   "metadata": {},
   "outputs": [],
   "source": [
    "finalized_data = output.select('Independent Features','Salary')"
   ]
  },
  {
   "cell_type": "code",
   "execution_count": null,
   "id": "4406ed4b-0d10-4ee4-8f26-145199e5f199",
   "metadata": {},
   "outputs": [],
   "source": [
    "finalized_dta.show()"
   ]
  },
  {
   "cell_type": "code",
   "execution_count": null,
   "id": "4c8bee9d-9bd3-4366-92b1-ab2884643ab9",
   "metadata": {},
   "outputs": [],
   "source": [
    "from pyspark.ml.regression import LinearRegression\n",
    "train_data,test_data = finalized_data.randomsplit([0.75,0.25])\n",
    "regressor = LinearRegression(featuresCol = 'Independent Features' , labelCol = 'Salary')\n",
    "regressor = regressor.fit(train_data)"
   ]
  },
  {
   "cell_type": "code",
   "execution_count": null,
   "id": "07ee67cb-5af1-40e0-868d-89112dfde9d6",
   "metadata": {},
   "outputs": [],
   "source": [
    "regressor.coefficient"
   ]
  },
  {
   "cell_type": "code",
   "execution_count": null,
   "id": "7ec7f74a-26bb-4378-99a4-fd59ee9a1ae1",
   "metadata": {},
   "outputs": [],
   "source": [
    "pred_result = regressor.evaluate(test_data)"
   ]
  },
  {
   "cell_type": "code",
   "execution_count": null,
   "id": "bb2ffd6a-49ad-4107-a2cb-b77922a0f2ac",
   "metadata": {},
   "outputs": [],
   "source": [
    "pred_result.predictions.show()"
   ]
  },
  {
   "cell_type": "code",
   "execution_count": null,
   "id": "8fa6fbaa-124e-4486-9b19-2a944fb42beb",
   "metadata": {},
   "outputs": [],
   "source": [
    "pred_result.meanAbsoluteError,pred_resu"
   ]
  },
  {
   "cell_type": "code",
   "execution_count": null,
   "id": "e66d4f3b-7749-4ab8-8153-b49cb3c4f451",
   "metadata": {},
   "outputs": [],
   "source": []
  },
  {
   "cell_type": "code",
   "execution_count": null,
   "id": "fda7ca66-538f-4284-bce1-37b30b81b25a",
   "metadata": {},
   "outputs": [],
   "source": []
  },
  {
   "cell_type": "code",
   "execution_count": null,
   "id": "981bc893-6348-4856-927b-191d2635067e",
   "metadata": {},
   "outputs": [],
   "source": []
  },
  {
   "cell_type": "code",
   "execution_count": null,
   "id": "8429702a-94fc-4cf3-b80b-d7ff4526ede4",
   "metadata": {},
   "outputs": [],
   "source": []
  },
  {
   "cell_type": "code",
   "execution_count": null,
   "id": "7edbe12c-3db5-47ab-bfbc-3ee708a71177",
   "metadata": {},
   "outputs": [],
   "source": []
  },
  {
   "cell_type": "code",
   "execution_count": null,
   "id": "b508afc8-f1fc-41b5-9733-ab7fd13b1cf6",
   "metadata": {},
   "outputs": [],
   "source": []
  },
  {
   "cell_type": "code",
   "execution_count": null,
   "id": "b901ee97-f246-40ea-bace-2249d97855fd",
   "metadata": {},
   "outputs": [],
   "source": []
  }
 ],
 "metadata": {
  "kernelspec": {
   "display_name": "Python 3 (ipykernel)",
   "language": "python",
   "name": "python3"
  },
  "language_info": {
   "codemirror_mode": {
    "name": "ipython",
    "version": 3
   },
   "file_extension": ".py",
   "mimetype": "text/x-python",
   "name": "python",
   "nbconvert_exporter": "python",
   "pygments_lexer": "ipython3",
   "version": "3.9.7"
  }
 },
 "nbformat": 4,
 "nbformat_minor": 5
}
