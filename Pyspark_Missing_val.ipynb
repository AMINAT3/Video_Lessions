{
 "cells": [
  {
   "cell_type": "code",
   "execution_count": 1,
   "id": "a07b207a",
   "metadata": {},
   "outputs": [],
   "source": [
    "import pyspark"
   ]
  },
  {
   "cell_type": "code",
   "execution_count": 2,
   "id": "216ca18e",
   "metadata": {},
   "outputs": [],
   "source": [
    "from pyspark.sql import SparkSession"
   ]
  },
  {
   "cell_type": "code",
   "execution_count": 4,
   "id": "100fe5e4",
   "metadata": {},
   "outputs": [],
   "source": [
    "spark = SparkSession.builder.appName('Practise').getOrCreate"
   ]
  },
  {
   "cell_type": "code",
   "execution_count": 5,
   "id": "cc53683a",
   "metadata": {},
   "outputs": [
    {
     "ename": "AttributeError",
     "evalue": "'function' object has no attribute 'read'",
     "output_type": "error",
     "traceback": [
      "\u001b[1;31m---------------------------------------------------------------------------\u001b[0m",
      "\u001b[1;31mAttributeError\u001b[0m                            Traceback (most recent call last)",
      "\u001b[1;32m~\\AppData\\Local\\Temp/ipykernel_9532/3861515112.py\u001b[0m in \u001b[0;36m<module>\u001b[1;34m\u001b[0m\n\u001b[1;32m----> 1\u001b[1;33m \u001b[0mspark\u001b[0m\u001b[1;33m.\u001b[0m\u001b[0mread\u001b[0m\u001b[1;33m.\u001b[0m\u001b[0mcsv\u001b[0m\u001b[1;33m(\u001b[0m\u001b[1;34m'C:\\\\Users\\\\Zachary_B\\\\Desktop\\\\dataset\\\\test2.csv'\u001b[0m\u001b[1;33m,\u001b[0m \u001b[0mheader\u001b[0m\u001b[1;33m=\u001b[0m\u001b[1;32mTrue\u001b[0m\u001b[1;33m,\u001b[0m \u001b[0minferchema\u001b[0m\u001b[1;33m=\u001b[0m\u001b[1;32mTrue\u001b[0m\u001b[1;33m)\u001b[0m\u001b[1;33m\u001b[0m\u001b[1;33m\u001b[0m\u001b[0m\n\u001b[0m",
      "\u001b[1;31mAttributeError\u001b[0m: 'function' object has no attribute 'read'"
     ]
    }
   ],
   "source": [
    "spark.read.csv('C:\\\\Users\\\\Zachary_B\\\\Desktop\\\\dataset\\\\test2.csv', header=True, inferchema=True)"
   ]
  },
  {
   "cell_type": "code",
   "execution_count": null,
   "id": "6dad0b58",
   "metadata": {},
   "outputs": [],
   "source": [
    "spark.read.csv('C:\\\\Users\\\\Zachary_B\\\\Desktop\\\\dataset\\\\test2.csv', header=True, inferchema=True)"
   ]
  },
  {
   "cell_type": "code",
   "execution_count": null,
   "id": "7301f259",
   "metadata": {},
   "outputs": [],
   "source": [
    "df_pyspark=spark.read.csv('C:\\\\Users\\\\Zachary_B\\\\Desktop\\\\dataset\\\\test2.csv', header=True, inferchema=True) "
   ]
  },
  {
   "cell_type": "code",
   "execution_count": null,
   "id": "39b6b685",
   "metadata": {},
   "outputs": [],
   "source": [
    "df_pyspark.show()"
   ]
  },
  {
   "cell_type": "code",
   "execution_count": null,
   "id": "828a5650",
   "metadata": {},
   "outputs": [],
   "source": [
    "### droppingthe columns\n",
    "df_pyspark.drop('Name').show()"
   ]
  },
  {
   "cell_type": "code",
   "execution_count": null,
   "id": "5672d568",
   "metadata": {},
   "outputs": [],
   "source": [
    "df_pyspark.na.drop().show()"
   ]
  },
  {
   "cell_type": "code",
   "execution_count": null,
   "id": "f17fd053",
   "metadata": {},
   "outputs": [],
   "source": [
    "### any==how\n",
    "df_pyspark.na.drop(how=\"any\").show()"
   ]
  },
  {
   "cell_type": "code",
   "execution_count": null,
   "id": "07a68ff1",
   "metadata": {},
   "outputs": [],
   "source": [
    "###threshold\n",
    "\n",
    "df_pyspark.na.drop(how=\"any\", thresh=2).show()"
   ]
  },
  {
   "cell_type": "code",
   "execution_count": null,
   "id": "e869f1b6",
   "metadata": {},
   "outputs": [],
   "source": [
    "df_pyspark.na.drop(how=\"any\", thresh=1).show()"
   ]
  },
  {
   "cell_type": "code",
   "execution_count": null,
   "id": "c1123b67",
   "metadata": {},
   "outputs": [],
   "source": [
    "df_pyspark.na.drop(how=\"any\", thresh=3).show()"
   ]
  },
  {
   "cell_type": "code",
   "execution_count": null,
   "id": "d75dc001",
   "metadata": {},
   "outputs": [],
   "source": [
    "###Subset\n",
    "df_pyspark.na.drop(how=\"any\", subset=['Experience']).show()"
   ]
  },
  {
   "cell_type": "code",
   "execution_count": null,
   "id": "c320cdcc",
   "metadata": {},
   "outputs": [],
   "source": [
    "df_pyspark.na.drop(how=\"any\", subset=['Age']).show()"
   ]
  },
  {
   "cell_type": "code",
   "execution_count": null,
   "id": "0d57f88c",
   "metadata": {},
   "outputs": [],
   "source": [
    "### filling the missing value\n",
    "\n",
    "df_pyspark.na.fill('Missing Values').show()"
   ]
  },
  {
   "cell_type": "code",
   "execution_count": null,
   "id": "9f6df556",
   "metadata": {},
   "outputs": [],
   "source": [
    "df_pyspark.na.fill('Missing Values', ['Experience', 'Age').show()"
   ]
  },
  {
   "cell_type": "code",
   "execution_count": null,
   "id": "ead21d98",
   "metadata": {},
   "outputs": [],
   "source": [
    "df_pyspark.show()"
   ]
  },
  {
   "cell_type": "code",
   "execution_count": null,
   "id": "9728815e",
   "metadata": {},
   "outputs": [],
   "source": [
    "from pyspark.ml.feature import Imputer\n",
    "\n",
    "imputer = Imputer(\n",
    "    inputCols=['age', 'Experience', 'Salary'],\n",
    "    outputCols=[\"{}_imputed\".format(c) for c in ['age', 'Experience', 'Salary']]\n",
    ").setStrategy.(\"mean\")"
   ]
  },
  {
   "cell_type": "code",
   "execution_count": null,
   "id": "50636792",
   "metadata": {},
   "outputs": [],
   "source": [
    "imputer.fit(df_pyspark).tramsform(df_pyspark).show()"
   ]
  },
  {
   "cell_type": "code",
   "execution_count": null,
   "id": "093e0ac6",
   "metadata": {},
   "outputs": [],
   "source": []
  }
 ],
 "metadata": {
  "kernelspec": {
   "display_name": "Python 3 (ipykernel)",
   "language": "python",
   "name": "python3"
  },
  "language_info": {
   "codemirror_mode": {
    "name": "ipython",
    "version": 3
   },
   "file_extension": ".py",
   "mimetype": "text/x-python",
   "name": "python",
   "nbconvert_exporter": "python",
   "pygments_lexer": "ipython3",
   "version": "3.9.7"
  }
 },
 "nbformat": 4,
 "nbformat_minor": 5
}
