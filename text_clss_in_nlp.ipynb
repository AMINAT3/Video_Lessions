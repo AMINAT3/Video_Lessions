{
 "cells": [
  {
   "cell_type": "code",
   "execution_count": 1,
   "id": "525184f3-8840-4c72-a2c7-8ca65f4a3778",
   "metadata": {},
   "outputs": [],
   "source": [
    "review_1 = 'The movie was good and we really like it'\n",
    "review_2 = 'The movie was good but the ending was boring'\n",
    "review_3 = 'We did not like the movie as it was too lengthy'"
   ]
  },
  {
   "cell_type": "code",
   "execution_count": 9,
   "id": "a8013774-a2b4-4420-acfa-d39477f28e37",
   "metadata": {},
   "outputs": [
    {
     "name": "stdout",
     "output_type": "stream",
     "text": [
      "['The', 'movie', 'was', 'good', 'and', 'we', 'really', 'like', 'it']\n",
      "['The', 'movie', 'was', 'good', 'but', 'the', 'ending', 'was', 'boring']\n",
      "['We', 'did', 'not', 'like', 'the', 'movie', 'as', 'it', 'was', 'too', 'lengthy']\n"
     ]
    }
   ],
   "source": [
    "import pandas as pd\n",
    "import numpy as np\n",
    "import nltk\n",
    "from nltk import word_tokenize\n",
    "\n",
    "review_1_tokens = word_tokenize(review_1)\n",
    "print(review_1_tokens)\n",
    "review_2_tokens = word_tokenize(review_2)\n",
    "print(review_2_tokens)\n",
    "review_3_tokens = word_tokenize(review_3)\n",
    "print(review_3_tokens)"
   ]
  },
  {
   "cell_type": "code",
   "execution_count": 11,
   "id": "c19a6ea5-52c3-4758-8a5c-00307d781395",
   "metadata": {},
   "outputs": [
    {
     "name": "stdout",
     "output_type": "stream",
     "text": [
      "{'lengthy', 'movie', 'too', 'good', 'The', 'not', 'We', 'and', 'the', 'but', 'ending', 'like', 'boring', 'we', 'as', 'was', 'did', 'it', 'really'}\n"
     ]
    }
   ],
   "source": [
    "review_tokens = set(review_1_tokens).union(set(review_2_tokens)).union(set(review_3_tokens))\n",
    "print(review_tokens)"
   ]
  },
  {
   "cell_type": "code",
   "execution_count": 12,
   "id": "efd26b6d-c348-4fe2-928a-9c22348af22c",
   "metadata": {},
   "outputs": [
    {
     "data": {
      "text/plain": [
       "19"
      ]
     },
     "execution_count": 12,
     "metadata": {},
     "output_type": "execute_result"
    }
   ],
   "source": [
    "len(review_tokens)"
   ]
  },
  {
   "cell_type": "code",
   "execution_count": 13,
   "id": "80eb08d2-291c-4d16-9a47-7949104adc96",
   "metadata": {},
   "outputs": [
    {
     "data": {
      "text/plain": [
       "{'The',\n",
       " 'We',\n",
       " 'and',\n",
       " 'as',\n",
       " 'boring',\n",
       " 'but',\n",
       " 'did',\n",
       " 'ending',\n",
       " 'good',\n",
       " 'it',\n",
       " 'lengthy',\n",
       " 'like',\n",
       " 'movie',\n",
       " 'not',\n",
       " 'really',\n",
       " 'the',\n",
       " 'too',\n",
       " 'was',\n",
       " 'we'}"
      ]
     },
     "execution_count": 13,
     "metadata": {},
     "output_type": "execute_result"
    }
   ],
   "source": [
    "review_tokens"
   ]
  },
  {
   "cell_type": "code",
   "execution_count": 14,
   "id": "758dde9d-b755-4b69-9954-1e75305fc437",
   "metadata": {},
   "outputs": [],
   "source": [
    "review1_dict = dict.fromkeys(review_tokens,0)"
   ]
  },
  {
   "cell_type": "code",
   "execution_count": 19,
   "id": "6f20d3ce-9d86-4df1-ab98-aae8bb464e1a",
   "metadata": {},
   "outputs": [
    {
     "data": {
      "text/plain": [
       "{'lengthy': 0,\n",
       " 'movie': 0,\n",
       " 'too': 0,\n",
       " 'good': 0,\n",
       " 'The': 0,\n",
       " 'not': 0,\n",
       " 'We': 0,\n",
       " 'and': 0,\n",
       " 'the': 0,\n",
       " 'but': 0,\n",
       " 'ending': 0,\n",
       " 'like': 0,\n",
       " 'boring': 0,\n",
       " 'we': 0,\n",
       " 'as': 0,\n",
       " 'was': 0,\n",
       " 'did': 0,\n",
       " 'it': 0,\n",
       " 'really': 0}"
      ]
     },
     "execution_count": 19,
     "metadata": {},
     "output_type": "execute_result"
    }
   ],
   "source": [
    "review1_dict"
   ]
  },
  {
   "cell_type": "code",
   "execution_count": 17,
   "id": "92eb797a-58aa-45a7-b5c7-0f806ef694af",
   "metadata": {},
   "outputs": [],
   "source": [
    "review1_dict = dict.fromkeys(review_tokens,0)\n",
    "review2_dict = dict.fromkeys(review_tokens,0)\n",
    "review3_dict = dict.fromkeys(review_tokens,0)"
   ]
  },
  {
   "cell_type": "code",
   "execution_count": 22,
   "id": "215a0296-4441-4b56-878a-f369969d4e5f",
   "metadata": {},
   "outputs": [],
   "source": [
    "for token in review_1_tokens:\n",
    "    review1_dict[token]+=1"
   ]
  },
  {
   "cell_type": "code",
   "execution_count": 23,
   "id": "e1ea09f3-2310-4c54-a2f6-b01155305223",
   "metadata": {},
   "outputs": [
    {
     "data": {
      "text/plain": [
       "{'lengthy': 0,\n",
       " 'movie': 1,\n",
       " 'too': 0,\n",
       " 'good': 1,\n",
       " 'The': 1,\n",
       " 'not': 0,\n",
       " 'We': 0,\n",
       " 'and': 1,\n",
       " 'the': 0,\n",
       " 'but': 0,\n",
       " 'ending': 0,\n",
       " 'like': 1,\n",
       " 'boring': 0,\n",
       " 'we': 1,\n",
       " 'as': 0,\n",
       " 'was': 1,\n",
       " 'did': 0,\n",
       " 'it': 1,\n",
       " 'really': 1}"
      ]
     },
     "execution_count": 23,
     "metadata": {},
     "output_type": "execute_result"
    }
   ],
   "source": [
    "review1_dict"
   ]
  },
  {
   "cell_type": "code",
   "execution_count": 24,
   "id": "2d76c80d-f23a-4788-bed7-f246ff80c150",
   "metadata": {},
   "outputs": [],
   "source": [
    "for token in review_2_tokens:\n",
    "    review2_dict[token]+=1"
   ]
  },
  {
   "cell_type": "code",
   "execution_count": 25,
   "id": "e5ff0c6f-c5f8-4278-9879-fbaddc0bf1af",
   "metadata": {},
   "outputs": [
    {
     "data": {
      "text/plain": [
       "{'lengthy': 0,\n",
       " 'movie': 1,\n",
       " 'too': 0,\n",
       " 'good': 1,\n",
       " 'The': 1,\n",
       " 'not': 0,\n",
       " 'We': 0,\n",
       " 'and': 0,\n",
       " 'the': 1,\n",
       " 'but': 1,\n",
       " 'ending': 1,\n",
       " 'like': 0,\n",
       " 'boring': 1,\n",
       " 'we': 0,\n",
       " 'as': 0,\n",
       " 'was': 2,\n",
       " 'did': 0,\n",
       " 'it': 0,\n",
       " 'really': 0}"
      ]
     },
     "execution_count": 25,
     "metadata": {},
     "output_type": "execute_result"
    }
   ],
   "source": [
    "review2_dict"
   ]
  },
  {
   "cell_type": "code",
   "execution_count": 26,
   "id": "3e7b5255-d48c-48d9-b924-5bd7053a8535",
   "metadata": {},
   "outputs": [],
   "source": [
    "for token in review_3_tokens:\n",
    "    review3_dict[token]+=1"
   ]
  },
  {
   "cell_type": "code",
   "execution_count": 27,
   "id": "04af8d5a-58cd-477e-a1c7-ea0facfbd0fc",
   "metadata": {},
   "outputs": [
    {
     "data": {
      "text/plain": [
       "{'lengthy': 1,\n",
       " 'movie': 1,\n",
       " 'too': 1,\n",
       " 'good': 0,\n",
       " 'The': 0,\n",
       " 'not': 1,\n",
       " 'We': 1,\n",
       " 'and': 0,\n",
       " 'the': 1,\n",
       " 'but': 0,\n",
       " 'ending': 0,\n",
       " 'like': 1,\n",
       " 'boring': 0,\n",
       " 'we': 0,\n",
       " 'as': 1,\n",
       " 'was': 1,\n",
       " 'did': 1,\n",
       " 'it': 1,\n",
       " 'really': 0}"
      ]
     },
     "execution_count": 27,
     "metadata": {},
     "output_type": "execute_result"
    }
   ],
   "source": [
    "review3_dict"
   ]
  },
  {
   "cell_type": "code",
   "execution_count": 28,
   "id": "e2cba47b-8d43-435c-a64c-f07c5fc30011",
   "metadata": {},
   "outputs": [],
   "source": [
    "reviews_Dict_DF = pd.DataFrame([review1_dict,review2_dict,review3_dict])"
   ]
  },
  {
   "cell_type": "code",
   "execution_count": 29,
   "id": "4c196d93-d686-4614-bd5d-06419aa62133",
   "metadata": {},
   "outputs": [
    {
     "data": {
      "text/html": [
       "<div>\n",
       "<style scoped>\n",
       "    .dataframe tbody tr th:only-of-type {\n",
       "        vertical-align: middle;\n",
       "    }\n",
       "\n",
       "    .dataframe tbody tr th {\n",
       "        vertical-align: top;\n",
       "    }\n",
       "\n",
       "    .dataframe thead th {\n",
       "        text-align: right;\n",
       "    }\n",
       "</style>\n",
       "<table border=\"1\" class=\"dataframe\">\n",
       "  <thead>\n",
       "    <tr style=\"text-align: right;\">\n",
       "      <th></th>\n",
       "      <th>lengthy</th>\n",
       "      <th>movie</th>\n",
       "      <th>too</th>\n",
       "      <th>good</th>\n",
       "      <th>The</th>\n",
       "      <th>not</th>\n",
       "      <th>We</th>\n",
       "      <th>and</th>\n",
       "      <th>the</th>\n",
       "      <th>but</th>\n",
       "      <th>ending</th>\n",
       "      <th>like</th>\n",
       "      <th>boring</th>\n",
       "      <th>we</th>\n",
       "      <th>as</th>\n",
       "      <th>was</th>\n",
       "      <th>did</th>\n",
       "      <th>it</th>\n",
       "      <th>really</th>\n",
       "    </tr>\n",
       "  </thead>\n",
       "  <tbody>\n",
       "    <tr>\n",
       "      <th>0</th>\n",
       "      <td>0</td>\n",
       "      <td>1</td>\n",
       "      <td>0</td>\n",
       "      <td>1</td>\n",
       "      <td>1</td>\n",
       "      <td>0</td>\n",
       "      <td>0</td>\n",
       "      <td>1</td>\n",
       "      <td>0</td>\n",
       "      <td>0</td>\n",
       "      <td>0</td>\n",
       "      <td>1</td>\n",
       "      <td>0</td>\n",
       "      <td>1</td>\n",
       "      <td>0</td>\n",
       "      <td>1</td>\n",
       "      <td>0</td>\n",
       "      <td>1</td>\n",
       "      <td>1</td>\n",
       "    </tr>\n",
       "    <tr>\n",
       "      <th>1</th>\n",
       "      <td>0</td>\n",
       "      <td>1</td>\n",
       "      <td>0</td>\n",
       "      <td>1</td>\n",
       "      <td>1</td>\n",
       "      <td>0</td>\n",
       "      <td>0</td>\n",
       "      <td>0</td>\n",
       "      <td>1</td>\n",
       "      <td>1</td>\n",
       "      <td>1</td>\n",
       "      <td>0</td>\n",
       "      <td>1</td>\n",
       "      <td>0</td>\n",
       "      <td>0</td>\n",
       "      <td>2</td>\n",
       "      <td>0</td>\n",
       "      <td>0</td>\n",
       "      <td>0</td>\n",
       "    </tr>\n",
       "    <tr>\n",
       "      <th>2</th>\n",
       "      <td>1</td>\n",
       "      <td>1</td>\n",
       "      <td>1</td>\n",
       "      <td>0</td>\n",
       "      <td>0</td>\n",
       "      <td>1</td>\n",
       "      <td>1</td>\n",
       "      <td>0</td>\n",
       "      <td>1</td>\n",
       "      <td>0</td>\n",
       "      <td>0</td>\n",
       "      <td>1</td>\n",
       "      <td>0</td>\n",
       "      <td>0</td>\n",
       "      <td>1</td>\n",
       "      <td>1</td>\n",
       "      <td>1</td>\n",
       "      <td>1</td>\n",
       "      <td>0</td>\n",
       "    </tr>\n",
       "  </tbody>\n",
       "</table>\n",
       "</div>"
      ],
      "text/plain": [
       "   lengthy  movie  too  good  The  not  We  and  the  but  ending  like  \\\n",
       "0        0      1    0     1    1    0   0    1    0    0       0     1   \n",
       "1        0      1    0     1    1    0   0    0    1    1       1     0   \n",
       "2        1      1    1     0    0    1   1    0    1    0       0     1   \n",
       "\n",
       "   boring  we  as  was  did  it  really  \n",
       "0       0   1   0    1    0   1       1  \n",
       "1       1   0   0    2    0   0       0  \n",
       "2       0   0   1    1    1   1       0  "
      ]
     },
     "execution_count": 29,
     "metadata": {},
     "output_type": "execute_result"
    }
   ],
   "source": [
    "reviews_Dict_DF"
   ]
  },
  {
   "cell_type": "code",
   "execution_count": 30,
   "id": "a2d618d1-b61c-4af4-9262-3150308d47db",
   "metadata": {},
   "outputs": [],
   "source": [
    "from sklearn.feature_extraction.text import CountVectorizer"
   ]
  },
  {
   "cell_type": "code",
   "execution_count": 33,
   "id": "fe62d5d2-17d5-42d0-921c-1193b546a0f9",
   "metadata": {},
   "outputs": [
    {
     "data": {
      "text/plain": [
       "['The movie was good and we really like it',\n",
       " 'The movie was good but the ending was boring',\n",
       " 'We did not like the movie as it was too lengthy']"
      ]
     },
     "execution_count": 33,
     "metadata": {},
     "output_type": "execute_result"
    }
   ],
   "source": [
    "review_list = [review_1,review_2,review_3]\n",
    "review_list"
   ]
  },
  {
   "cell_type": "code",
   "execution_count": 34,
   "id": "50e51394-c1cc-4f2c-a3c4-72b7f1a21f79",
   "metadata": {},
   "outputs": [
    {
     "data": {
      "text/plain": [
       "CountVectorizer()"
      ]
     },
     "execution_count": 34,
     "metadata": {},
     "output_type": "execute_result"
    }
   ],
   "source": [
    "count_vect = CountVectorizer()\n",
    "count_vect"
   ]
  },
  {
   "cell_type": "code",
   "execution_count": 35,
   "id": "c0f741d0-e457-4fb1-a3e1-c550c126903c",
   "metadata": {},
   "outputs": [
    {
     "data": {
      "text/plain": [
       "array([[1, 0, 0, 0, 0, 0, 1, 1, 0, 1, 1, 0, 1, 1, 0, 1, 1],\n",
       "       [0, 0, 1, 1, 0, 1, 1, 0, 0, 0, 1, 0, 0, 2, 0, 2, 0],\n",
       "       [0, 1, 0, 0, 1, 0, 0, 1, 1, 1, 1, 1, 0, 1, 1, 1, 1]], dtype=int64)"
      ]
     },
     "execution_count": 35,
     "metadata": {},
     "output_type": "execute_result"
    }
   ],
   "source": [
    "X_count = count_vect.fit_transform(review_list)\n",
    "X_count.toarray()"
   ]
  },
  {
   "cell_type": "code",
   "execution_count": 36,
   "id": "f9743120-40f9-4951-9ea9-9d1222b9c2ff",
   "metadata": {},
   "outputs": [
    {
     "data": {
      "text/plain": [
       "scipy.sparse.csr.csr_matrix"
      ]
     },
     "execution_count": 36,
     "metadata": {},
     "output_type": "execute_result"
    }
   ],
   "source": [
    "type(X_count)"
   ]
  },
  {
   "cell_type": "code",
   "execution_count": 40,
   "id": "214ed904-ad3f-4f27-976d-a1294deb9bb7",
   "metadata": {},
   "outputs": [
    {
     "data": {
      "text/plain": [
       "['and',\n",
       " 'as',\n",
       " 'boring',\n",
       " 'but',\n",
       " 'did',\n",
       " 'ending',\n",
       " 'good',\n",
       " 'it',\n",
       " 'lengthy',\n",
       " 'like',\n",
       " 'movie',\n",
       " 'not',\n",
       " 'really',\n",
       " 'the',\n",
       " 'too',\n",
       " 'was',\n",
       " 'we']"
      ]
     },
     "execution_count": 40,
     "metadata": {},
     "output_type": "execute_result"
    }
   ],
   "source": [
    "X_names = count_vect.get_feature_names()\n",
    "X_names"
   ]
  },
  {
   "cell_type": "code",
   "execution_count": 44,
   "id": "2b2bb199-f8c7-4435-a91e-77eb8591fa1f",
   "metadata": {},
   "outputs": [
    {
     "data": {
      "text/html": [
       "<div>\n",
       "<style scoped>\n",
       "    .dataframe tbody tr th:only-of-type {\n",
       "        vertical-align: middle;\n",
       "    }\n",
       "\n",
       "    .dataframe tbody tr th {\n",
       "        vertical-align: top;\n",
       "    }\n",
       "\n",
       "    .dataframe thead th {\n",
       "        text-align: right;\n",
       "    }\n",
       "</style>\n",
       "<table border=\"1\" class=\"dataframe\">\n",
       "  <thead>\n",
       "    <tr style=\"text-align: right;\">\n",
       "      <th></th>\n",
       "      <th>and</th>\n",
       "      <th>as</th>\n",
       "      <th>boring</th>\n",
       "      <th>but</th>\n",
       "      <th>did</th>\n",
       "      <th>ending</th>\n",
       "      <th>good</th>\n",
       "      <th>it</th>\n",
       "      <th>lengthy</th>\n",
       "      <th>like</th>\n",
       "      <th>movie</th>\n",
       "      <th>not</th>\n",
       "      <th>really</th>\n",
       "      <th>the</th>\n",
       "      <th>too</th>\n",
       "      <th>was</th>\n",
       "      <th>we</th>\n",
       "    </tr>\n",
       "  </thead>\n",
       "  <tbody>\n",
       "    <tr>\n",
       "      <th>0</th>\n",
       "      <td>1</td>\n",
       "      <td>0</td>\n",
       "      <td>0</td>\n",
       "      <td>0</td>\n",
       "      <td>0</td>\n",
       "      <td>0</td>\n",
       "      <td>1</td>\n",
       "      <td>1</td>\n",
       "      <td>0</td>\n",
       "      <td>1</td>\n",
       "      <td>1</td>\n",
       "      <td>0</td>\n",
       "      <td>1</td>\n",
       "      <td>1</td>\n",
       "      <td>0</td>\n",
       "      <td>1</td>\n",
       "      <td>1</td>\n",
       "    </tr>\n",
       "    <tr>\n",
       "      <th>1</th>\n",
       "      <td>0</td>\n",
       "      <td>0</td>\n",
       "      <td>1</td>\n",
       "      <td>1</td>\n",
       "      <td>0</td>\n",
       "      <td>1</td>\n",
       "      <td>1</td>\n",
       "      <td>0</td>\n",
       "      <td>0</td>\n",
       "      <td>0</td>\n",
       "      <td>1</td>\n",
       "      <td>0</td>\n",
       "      <td>0</td>\n",
       "      <td>2</td>\n",
       "      <td>0</td>\n",
       "      <td>2</td>\n",
       "      <td>0</td>\n",
       "    </tr>\n",
       "    <tr>\n",
       "      <th>2</th>\n",
       "      <td>0</td>\n",
       "      <td>1</td>\n",
       "      <td>0</td>\n",
       "      <td>0</td>\n",
       "      <td>1</td>\n",
       "      <td>0</td>\n",
       "      <td>0</td>\n",
       "      <td>1</td>\n",
       "      <td>1</td>\n",
       "      <td>1</td>\n",
       "      <td>1</td>\n",
       "      <td>1</td>\n",
       "      <td>0</td>\n",
       "      <td>1</td>\n",
       "      <td>1</td>\n",
       "      <td>1</td>\n",
       "      <td>1</td>\n",
       "    </tr>\n",
       "  </tbody>\n",
       "</table>\n",
       "</div>"
      ],
      "text/plain": [
       "   and  as  boring  but  did  ending  good  it  lengthy  like  movie  not  \\\n",
       "0    1   0       0    0    0       0     1   1        0     1      1    0   \n",
       "1    0   0       1    1    0       1     1   0        0     0      1    0   \n",
       "2    0   1       0    0    1       0     0   1        1     1      1    1   \n",
       "\n",
       "   really  the  too  was  we  \n",
       "0       1    1    0    1   1  \n",
       "1       0    2    0    2   0  \n",
       "2       0    1    1    1   1  "
      ]
     },
     "execution_count": 44,
     "metadata": {},
     "output_type": "execute_result"
    }
   ],
   "source": [
    "a = pd.DataFrame(X_count.toarray(),columns=X_names)\n",
    "a"
   ]
  },
  {
   "cell_type": "code",
   "execution_count": 45,
   "id": "254f3968-3125-4bb1-ad7a-71e12f3e205d",
   "metadata": {},
   "outputs": [],
   "source": [
    "from sklearn.feature_extraction.text import TfidfVectorizer"
   ]
  },
  {
   "cell_type": "code",
   "execution_count": 46,
   "id": "96e6901a-1d5b-40c9-b7ab-0b9ab135aedc",
   "metadata": {},
   "outputs": [],
   "source": [
    "tf_vect = TfidfVectorizer(min_df=1,lowercase=True,stop_words='english')"
   ]
  },
  {
   "cell_type": "code",
   "execution_count": 48,
   "id": "a434c7d3-e11f-431b-b96f-aa08801cbaae",
   "metadata": {},
   "outputs": [],
   "source": [
    "tf_matrix = tf_vect.fit_transform(review_list)"
   ]
  },
  {
   "cell_type": "code",
   "execution_count": 49,
   "id": "6fd29a22-f0bf-44d3-bbbe-5e668f5bd563",
   "metadata": {},
   "outputs": [
    {
     "data": {
      "text/plain": [
       "scipy.sparse.csr.csr_matrix"
      ]
     },
     "execution_count": 49,
     "metadata": {},
     "output_type": "execute_result"
    }
   ],
   "source": [
    "type(tf_matrix)"
   ]
  },
  {
   "cell_type": "code",
   "execution_count": 50,
   "id": "92d7a3bd-e5ba-428f-bbfe-45e0f5857b4b",
   "metadata": {},
   "outputs": [
    {
     "data": {
      "text/plain": [
       "(3, 8)"
      ]
     },
     "execution_count": 50,
     "metadata": {},
     "output_type": "execute_result"
    }
   ],
   "source": [
    "tf_matrix.shape"
   ]
  },
  {
   "cell_type": "code",
   "execution_count": 51,
   "id": "f9b506cc-5c98-45f3-84f6-9ffa7000b783",
   "metadata": {},
   "outputs": [],
   "source": [
    "tf_names = tf_vect.get_feature_names()"
   ]
  },
  {
   "cell_type": "code",
   "execution_count": 52,
   "id": "eeddf772-9098-4006-a8c8-ada4fa6bc096",
   "metadata": {},
   "outputs": [
    {
     "data": {
      "text/plain": [
       "['boring', 'did', 'ending', 'good', 'lengthy', 'like', 'movie', 'really']"
      ]
     },
     "execution_count": 52,
     "metadata": {},
     "output_type": "execute_result"
    }
   ],
   "source": [
    "tf_names"
   ]
  },
  {
   "cell_type": "code",
   "execution_count": 53,
   "id": "69479a01-da63-4a96-9bb7-dd51101327c4",
   "metadata": {},
   "outputs": [],
   "source": [
    "tf_df = pd.DataFrame(tf_matrix.toarray(),columns=tf_names)"
   ]
  },
  {
   "cell_type": "code",
   "execution_count": 54,
   "id": "6236732c-628c-48fd-9158-211b1d31e89b",
   "metadata": {},
   "outputs": [
    {
     "data": {
      "text/html": [
       "<div>\n",
       "<style scoped>\n",
       "    .dataframe tbody tr th:only-of-type {\n",
       "        vertical-align: middle;\n",
       "    }\n",
       "\n",
       "    .dataframe tbody tr th {\n",
       "        vertical-align: top;\n",
       "    }\n",
       "\n",
       "    .dataframe thead th {\n",
       "        text-align: right;\n",
       "    }\n",
       "</style>\n",
       "<table border=\"1\" class=\"dataframe\">\n",
       "  <thead>\n",
       "    <tr style=\"text-align: right;\">\n",
       "      <th></th>\n",
       "      <th>boring</th>\n",
       "      <th>did</th>\n",
       "      <th>ending</th>\n",
       "      <th>good</th>\n",
       "      <th>lengthy</th>\n",
       "      <th>like</th>\n",
       "      <th>movie</th>\n",
       "      <th>really</th>\n",
       "    </tr>\n",
       "  </thead>\n",
       "  <tbody>\n",
       "    <tr>\n",
       "      <th>0</th>\n",
       "      <td>0.000000</td>\n",
       "      <td>0.000000</td>\n",
       "      <td>0.000000</td>\n",
       "      <td>0.480458</td>\n",
       "      <td>0.000000</td>\n",
       "      <td>0.480458</td>\n",
       "      <td>0.373119</td>\n",
       "      <td>0.631745</td>\n",
       "    </tr>\n",
       "    <tr>\n",
       "      <th>1</th>\n",
       "      <td>0.584483</td>\n",
       "      <td>0.000000</td>\n",
       "      <td>0.584483</td>\n",
       "      <td>0.444514</td>\n",
       "      <td>0.000000</td>\n",
       "      <td>0.000000</td>\n",
       "      <td>0.345205</td>\n",
       "      <td>0.000000</td>\n",
       "    </tr>\n",
       "    <tr>\n",
       "      <th>2</th>\n",
       "      <td>0.000000</td>\n",
       "      <td>0.584483</td>\n",
       "      <td>0.000000</td>\n",
       "      <td>0.000000</td>\n",
       "      <td>0.584483</td>\n",
       "      <td>0.444514</td>\n",
       "      <td>0.345205</td>\n",
       "      <td>0.000000</td>\n",
       "    </tr>\n",
       "  </tbody>\n",
       "</table>\n",
       "</div>"
      ],
      "text/plain": [
       "     boring       did    ending      good   lengthy      like     movie  \\\n",
       "0  0.000000  0.000000  0.000000  0.480458  0.000000  0.480458  0.373119   \n",
       "1  0.584483  0.000000  0.584483  0.444514  0.000000  0.000000  0.345205   \n",
       "2  0.000000  0.584483  0.000000  0.000000  0.584483  0.444514  0.345205   \n",
       "\n",
       "     really  \n",
       "0  0.631745  \n",
       "1  0.000000  \n",
       "2  0.000000  "
      ]
     },
     "execution_count": 54,
     "metadata": {},
     "output_type": "execute_result"
    }
   ],
   "source": [
    "tf_df"
   ]
  },
  {
   "cell_type": "code",
   "execution_count": null,
   "id": "240449e9-c7f7-432a-bb28-2b9097762e0f",
   "metadata": {},
   "outputs": [],
   "source": []
  }
 ],
 "metadata": {
  "kernelspec": {
   "display_name": "Python 3",
   "language": "python",
   "name": "python3"
  },
  "language_info": {
   "codemirror_mode": {
    "name": "ipython",
    "version": 3
   },
   "file_extension": ".py",
   "mimetype": "text/x-python",
   "name": "python",
   "nbconvert_exporter": "python",
   "pygments_lexer": "ipython3",
   "version": "3.8.8"
  }
 },
 "nbformat": 4,
 "nbformat_minor": 5
}
