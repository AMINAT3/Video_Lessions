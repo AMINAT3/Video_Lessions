{
 "cells": [
  {
   "cell_type": "code",
   "execution_count": 1,
   "id": "781381c2-6fbe-4b8c-9bf5-3f8ba78e5125",
   "metadata": {},
   "outputs": [],
   "source": [
    "import re"
   ]
  },
  {
   "cell_type": "code",
   "execution_count": 6,
   "id": "11c65629-e6ec-456c-8481-fae02c27600e",
   "metadata": {},
   "outputs": [
    {
     "name": "stdout",
     "output_type": "stream",
     "text": [
      "['computer']\n"
     ]
    }
   ],
   "source": [
    "str = \"Abcd 4 computer 765 python 678\"\n",
    "pattern = 'computer'\n",
    "match = re.findall(pattern, str)\n",
    "\n",
    "print(match)"
   ]
  },
  {
   "cell_type": "code",
   "execution_count": 5,
   "id": "1a965351-9136-4069-8a24-c5710d9bf5b9",
   "metadata": {},
   "outputs": [
    {
     "name": "stdout",
     "output_type": "stream",
     "text": [
      "['Abcd', 'computer', 'python']\n"
     ]
    }
   ],
   "source": [
    "str = \"Abcd 4 computer 765 python 678\"\n",
    "pattern = r'[a-zA-Z]+'\n",
    "match = re.findall(pattern, str)\n",
    "\n",
    "print(match)"
   ]
  },
  {
   "cell_type": "code",
   "execution_count": 7,
   "id": "2707c673-5d82-4bb2-810f-2ede33722048",
   "metadata": {},
   "outputs": [
    {
     "name": "stdout",
     "output_type": "stream",
     "text": [
      "['Abcdcomputer', 'python']\n"
     ]
    }
   ],
   "source": [
    "str = \"Abcdcomputer 765 python 678\"\n",
    "pattern = r'[a-zA-Z]+'\n",
    "match = re.findall(pattern, str)\n",
    "\n",
    "print(match)"
   ]
  },
  {
   "cell_type": "code",
   "execution_count": 8,
   "id": "9d1995f7-e2a0-4f50-bc8d-57541a1414f0",
   "metadata": {},
   "outputs": [
    {
     "name": "stdout",
     "output_type": "stream",
     "text": [
      "['4', '765', '678']\n"
     ]
    }
   ],
   "source": [
    "str = \"Abcd 4 computer 765 python 678\"\n",
    "pattern = r'[0-9]+'\n",
    "match = re.findall(pattern, str)\n",
    "\n",
    "print(match)"
   ]
  },
  {
   "cell_type": "code",
   "execution_count": 9,
   "id": "4eea2814-716a-4593-bab8-ed3fb06984bf",
   "metadata": {},
   "outputs": [
    {
     "name": "stdout",
     "output_type": "stream",
     "text": [
      "['Abcd', '4', 'computer', '765', 'python', '678']\n"
     ]
    }
   ],
   "source": [
    "str = \"Abcd 4 computer 765 python 678\"\n",
    "pattern = r'[a-zA-Z0-9]+'\n",
    "match = re.findall(pattern, str)\n",
    "\n",
    "print(match)"
   ]
  },
  {
   "cell_type": "code",
   "execution_count": 10,
   "id": "80097145-1968-4b1a-875c-74d668c86fb6",
   "metadata": {},
   "outputs": [
    {
     "name": "stdout",
     "output_type": "stream",
     "text": [
      "['Abcd', '4', 'computer', '765', 'python', '678']\n"
     ]
    }
   ],
   "source": [
    "str = \"Abcd 4 computer 765 python 678\"\n",
    "pattern = r'.'\n",
    "match = re.findall(pattern, str)\n",
    "\n",
    "print(match)"
   ]
  },
  {
   "cell_type": "code",
   "execution_count": 12,
   "id": "fe3c5ddd-b291-416b-8d82-cfd2fab6d69d",
   "metadata": {},
   "outputs": [
    {
     "name": "stdout",
     "output_type": "stream",
     "text": [
      "cherries\n"
     ]
    }
   ],
   "source": [
    "str = '''\n",
    "apple\n",
    "banana\n",
    "orange\n",
    "peach\n",
    "avocado\n",
    "cherries\n",
    "'''\n",
    "\n",
    "pattern = r'.*s'\n",
    "match = re.findall(pattern, str)\n",
    "\n",
    "for m in match:\n",
    "    print(m)"
   ]
  },
  {
   "cell_type": "code",
   "execution_count": 13,
   "id": "bd6bef10-d68c-46ef-9eaa-fdd42a486e71",
   "metadata": {},
   "outputs": [
    {
     "name": "stdout",
     "output_type": "stream",
     "text": [
      "apple\n",
      "orange\n",
      "avocado\n"
     ]
    }
   ],
   "source": [
    "str = '''\n",
    "apple\n",
    "banana\n",
    "orange\n",
    "peach\n",
    "avocado\n",
    "cherries\n",
    "'''\n",
    "\n",
    "pattern = r'\\b[aeiou].+\\b'\n",
    "match = re.findall(pattern, str)\n",
    "\n",
    "for m in match:\n",
    "    print(m)"
   ]
  },
  {
   "cell_type": "code",
   "execution_count": 16,
   "id": "2fc06990-eeb0-4494-b359-a9f3768c80b7",
   "metadata": {},
   "outputs": [
    {
     "name": "stdout",
     "output_type": "stream",
     "text": [
      "apple\n",
      "anana\n",
      "orange\n",
      "each\n",
      "avocado\n",
      "erries\n"
     ]
    }
   ],
   "source": [
    "str = '''\n",
    "apple\n",
    "banana\n",
    "orange\n",
    "peach\n",
    "avocado\n",
    "cherries\n",
    "'''\n",
    "\n",
    "pattern = r'[aeiou].+'\n",
    "match = re.findall(pattern, str)\n",
    "\n",
    "for m in match:\n",
    "    print(m)"
   ]
  },
  {
   "cell_type": "code",
   "execution_count": 17,
   "id": "79cfce41-713a-4719-9f3d-f98ba55f8082",
   "metadata": {},
   "outputs": [
    {
     "name": "stdout",
     "output_type": "stream",
     "text": [
      "apple\n",
      "anana\n",
      "orange\n",
      "each\n",
      "avocado\n",
      "erries\n"
     ]
    }
   ],
   "source": [
    "str = '''\n",
    "apple\n",
    "banana\n",
    "orange\n",
    "peach\n",
    "avocado\n",
    "cherries\n",
    "'''\n",
    "\n",
    "pattern = r'[aeiou].+\\b'\n",
    "match = re.findall(pattern, str)\n",
    "\n",
    "for m in match:\n",
    "    print(m)"
   ]
  },
  {
   "cell_type": "code",
   "execution_count": 18,
   "id": "42a8cd13-798d-44fc-a7a8-b3049eeaedd5",
   "metadata": {},
   "outputs": [
    {
     "name": "stdout",
     "output_type": "stream",
     "text": [
      "['dfshj@gmail.com', 'tigacharm56h@hotmail.com']\n"
     ]
    }
   ],
   "source": [
    "str = '''\n",
    "dfshj@gmail.com\n",
    "3ytgdg.56\n",
    "tigacharm56h@hotmail.com\n",
    "hgf123h@aol\n",
    "'''\n",
    "\n",
    "pattern = r'[a-z]+[0-9]*[a-z]*@[a-z]+\\.com'\n",
    "match = re.findall(pattern, str)\n",
    "print(match)"
   ]
  },
  {
   "cell_type": "code",
   "execution_count": 21,
   "id": "4162a2e0-d143-463a-9a99-bbd883fb511b",
   "metadata": {},
   "outputs": [
    {
     "name": "stdout",
     "output_type": "stream",
     "text": [
      "<re.Match object; span=(1, 16), match='dfshj@gmail.com'>\n",
      "<re.Match object; span=(27, 51), match='tigacharm56h@hotmail.com'>\n"
     ]
    }
   ],
   "source": [
    "str = '''\n",
    "dfshj@gmail.com\n",
    "3ytgdg.56\n",
    "tigacharm56h@hotmail.com\n",
    "hgf123h@aol\n",
    "'''\n",
    "\n",
    "pattern = r'[a-z]+[0-9]*[a-z]*@[a-z]+\\.com'\n",
    "match = re.finditer(pattern, str)\n",
    "\n",
    "for m in match:\n",
    "print(m)"
   ]
  },
  {
   "cell_type": "code",
   "execution_count": 25,
   "id": "c58081ae-c190-4f9b-8433-b64921373fad",
   "metadata": {},
   "outputs": [
    {
     "name": "stdout",
     "output_type": "stream",
     "text": [
      "(1, 16)\n",
      "(27, 51)\n"
     ]
    }
   ],
   "source": [
    "str = '''\n",
    "dfshj@gmail.com\n",
    "3ytgdg.56\n",
    "tigacharm56h@hotmail.com\n",
    "hgf123h@aol\n",
    "'''\n",
    "\n",
    "pattern = r'[a-z]+[0-9]*[a-z]*@[a-z]+\\.com'\n",
    "match = re.finditer(pattern, str)\n",
    "\n",
    "for m in match:\n",
    "    print(m.span())"
   ]
  },
  {
   "cell_type": "code",
   "execution_count": 27,
   "id": "9c808bfe-94fc-4b8d-aa03-b96974e1d848",
   "metadata": {},
   "outputs": [
    {
     "name": "stdout",
     "output_type": "stream",
     "text": [
      "\n",
      "\n",
      "car\n",
      "2354\n",
      "\n",
      "\n",
      "90\n",
      "\n"
     ]
    }
   ],
   "source": [
    "str = '''\n",
    "Sam\n",
    "car\n",
    "2354\n",
    "Alexa\n",
    "John\n",
    "90\n",
    "'''\n",
    "\n",
    "pattern = r'\\b[A-Z][a-z]+\\b'\n",
    "nstr = re.sub(pattern, \"\", str)\n",
    "\n",
    "print(nstr)"
   ]
  },
  {
   "cell_type": "code",
   "execution_count": null,
   "id": "56f1266f-ef62-4a80-a144-757f1bdda7cd",
   "metadata": {},
   "outputs": [],
   "source": []
  }
 ],
 "metadata": {
  "kernelspec": {
   "display_name": "Python 3",
   "language": "python",
   "name": "python3"
  },
  "language_info": {
   "codemirror_mode": {
    "name": "ipython",
    "version": 3
   },
   "file_extension": ".py",
   "mimetype": "text/x-python",
   "name": "python",
   "nbconvert_exporter": "python",
   "pygments_lexer": "ipython3",
   "version": "3.8.8"
  }
 },
 "nbformat": 4,
 "nbformat_minor": 5
}
