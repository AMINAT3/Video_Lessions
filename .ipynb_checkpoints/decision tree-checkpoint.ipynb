{
 "cells": [
  {
   "cell_type": "code",
   "execution_count": 1,
   "id": "b04f61a1-9c38-411c-bd99-87d8bd09d52a",
   "metadata": {},
   "outputs": [],
   "source": [
    "import pandas as pd\n",
    "import numpy as np\n",
    "from sklearn.datasets import load_digits\n",
    "from sklearn.model_selection import train_test_split\n",
    "from sklearn.linear_model import LinearRegression\n",
    "from sklearn.svm import SVC\n",
    "from sklearn.metrics import classification_report\n",
    "from sklearn.preprocessing import StandardScaler\n",
    "from sklearn.ensemble import RandomForestClassifier\n",
    "from sklearn.metrics import classification_report,confusion_matrix,accuracy_score\n",
    "from sklearn.cluster import KMeans\n",
    "from sklearn.neighbors import KNeighborsClassifier\n",
    "from sklearn.metrics import accuracy_score\n",
    "from sklearn.metrics import f1_score\n",
    "from sklearn.tree import DecisionTreeClassifier\n",
    "from sklearn import tree"
   ]
  },
  {
   "cell_type": "code",
   "execution_count": 2,
   "id": "4b297b37-7ab8-49c6-baa9-d44989f74624",
   "metadata": {},
   "outputs": [],
   "source": [
    "balance=pd.read_csv('C:\\\\Users\\\\phera\\\\Desktop\\\\datasets\\\\Decision+Tree+Dataset.csv', sep=',',header=0)"
   ]
  },
  {
   "cell_type": "code",
   "execution_count": 4,
   "id": "5b197670-4155-400a-b642-8bace049f9a4",
   "metadata": {},
   "outputs": [
    {
     "name": "stdout",
     "output_type": "stream",
     "text": [
      "Dataset Length::  1000\n"
     ]
    }
   ],
   "source": [
    "print('Dataset Length:: ', len(balance))"
   ]
  },
  {
   "cell_type": "code",
   "execution_count": 5,
   "id": "697d9e06-1a66-47a8-a2bf-7a51947b8f6c",
   "metadata": {},
   "outputs": [
    {
     "name": "stdout",
     "output_type": "stream",
     "text": [
      "Dataset Shape::  (1000, 6)\n"
     ]
    }
   ],
   "source": [
    "print('Dataset Shape:: ', balance.shape)"
   ]
  },
  {
   "cell_type": "code",
   "execution_count": 6,
   "id": "e13e834c-21a9-4d21-acb6-bbf6d95fb1b6",
   "metadata": {},
   "outputs": [
    {
     "name": "stdout",
     "output_type": "stream",
     "text": [
      "Dataset::\n"
     ]
    },
    {
     "data": {
      "text/html": [
       "<div>\n",
       "<style scoped>\n",
       "    .dataframe tbody tr th:only-of-type {\n",
       "        vertical-align: middle;\n",
       "    }\n",
       "\n",
       "    .dataframe tbody tr th {\n",
       "        vertical-align: top;\n",
       "    }\n",
       "\n",
       "    .dataframe thead th {\n",
       "        text-align: right;\n",
       "    }\n",
       "</style>\n",
       "<table border=\"1\" class=\"dataframe\">\n",
       "  <thead>\n",
       "    <tr style=\"text-align: right;\">\n",
       "      <th></th>\n",
       "      <th>Initial payment</th>\n",
       "      <th>Last payment</th>\n",
       "      <th>Credit Score</th>\n",
       "      <th>House Number</th>\n",
       "      <th>sum</th>\n",
       "      <th>Result</th>\n",
       "    </tr>\n",
       "  </thead>\n",
       "  <tbody>\n",
       "    <tr>\n",
       "      <th>0</th>\n",
       "      <td>201</td>\n",
       "      <td>10018</td>\n",
       "      <td>250</td>\n",
       "      <td>3046</td>\n",
       "      <td>13515</td>\n",
       "      <td>yes</td>\n",
       "    </tr>\n",
       "    <tr>\n",
       "      <th>1</th>\n",
       "      <td>205</td>\n",
       "      <td>10016</td>\n",
       "      <td>395</td>\n",
       "      <td>3044</td>\n",
       "      <td>13660</td>\n",
       "      <td>yes</td>\n",
       "    </tr>\n",
       "    <tr>\n",
       "      <th>2</th>\n",
       "      <td>257</td>\n",
       "      <td>10129</td>\n",
       "      <td>109</td>\n",
       "      <td>3251</td>\n",
       "      <td>13746</td>\n",
       "      <td>yes</td>\n",
       "    </tr>\n",
       "    <tr>\n",
       "      <th>3</th>\n",
       "      <td>246</td>\n",
       "      <td>10064</td>\n",
       "      <td>324</td>\n",
       "      <td>3137</td>\n",
       "      <td>13771</td>\n",
       "      <td>yes</td>\n",
       "    </tr>\n",
       "    <tr>\n",
       "      <th>4</th>\n",
       "      <td>117</td>\n",
       "      <td>10115</td>\n",
       "      <td>496</td>\n",
       "      <td>3094</td>\n",
       "      <td>13822</td>\n",
       "      <td>yes</td>\n",
       "    </tr>\n",
       "  </tbody>\n",
       "</table>\n",
       "</div>"
      ],
      "text/plain": [
       "   Initial payment  Last payment  Credit Score  House Number    sum Result\n",
       "0              201         10018           250          3046  13515    yes\n",
       "1              205         10016           395          3044  13660    yes\n",
       "2              257         10129           109          3251  13746    yes\n",
       "3              246         10064           324          3137  13771    yes\n",
       "4              117         10115           496          3094  13822    yes"
      ]
     },
     "execution_count": 6,
     "metadata": {},
     "output_type": "execute_result"
    }
   ],
   "source": [
    "print('Dataset::')\n",
    "balance.head()"
   ]
  },
  {
   "cell_type": "code",
   "execution_count": 12,
   "id": "7622f4bd-0b33-4ee9-abb7-2862b6231854",
   "metadata": {},
   "outputs": [
    {
     "data": {
      "text/plain": [
       "DecisionTreeClassifier(criterion='entropy', max_depth=3, min_samples_leaf=5,\n",
       "                       random_state=100)"
      ]
     },
     "execution_count": 12,
     "metadata": {},
     "output_type": "execute_result"
    }
   ],
   "source": [
    "X=balance.values[:, 1:5]\n",
    "\n",
    "y=balance.iloc[:,5]\n",
    "X_train, X_test, y_train, y_test = train_test_split(X,y, test_size=0.3, random_state=100)\n",
    "clf=DecisionTreeClassifier(criterion = 'entropy', random_state =100,\n",
    "                          max_depth=3,min_samples_leaf=5)\n",
    "clf.fit(X_train, y_train)"
   ]
  },
  {
   "cell_type": "code",
   "execution_count": 13,
   "id": "433b928a-7985-4d5e-a5cf-1f3b76a0fe45",
   "metadata": {},
   "outputs": [
    {
     "name": "stdout",
     "output_type": "stream",
     "text": [
      "['yes' 'yes' 'No' 'yes' 'No' 'yes' 'No' 'No' 'No' 'No' 'No' 'No' 'yes'\n",
      " 'No' 'No' 'yes' 'yes' 'No' 'yes' 'No' 'No' 'yes' 'No' 'yes' 'yes' 'No'\n",
      " 'No' 'yes' 'No' 'No' 'No' 'yes' 'yes' 'yes' 'yes' 'No' 'No' 'No' 'yes'\n",
      " 'yes' 'yes' 'yes' 'yes' 'No' 'No' 'yes' 'No' 'yes' 'No' 'No' 'yes' 'No'\n",
      " 'yes' 'yes' 'yes' 'yes' 'No' 'No' 'No' 'yes' 'yes' 'No' 'No' 'yes' 'No'\n",
      " 'yes' 'yes' 'yes' 'No' 'yes' 'No' 'No' 'No' 'yes' 'No' 'yes' 'yes' 'No'\n",
      " 'yes' 'No' 'No' 'No' 'No' 'yes' 'No' 'yes' 'No' 'No' 'yes' 'No' 'yes'\n",
      " 'yes' 'No' 'yes' 'yes' 'No' 'yes' 'yes' 'yes' 'yes' 'No' 'No' 'yes' 'No'\n",
      " 'No' 'yes' 'yes' 'yes' 'No' 'yes' 'yes' 'yes' 'yes' 'No' 'No' 'yes' 'yes'\n",
      " 'yes' 'No' 'yes' 'No' 'No' 'yes' 'yes' 'No' 'No' 'yes' 'yes' 'No' 'No'\n",
      " 'yes' 'yes' 'No' 'yes' 'yes' 'yes' 'No' 'yes' 'yes' 'No' 'No' 'yes' 'yes'\n",
      " 'yes' 'No' 'yes' 'yes' 'yes' 'yes' 'No' 'yes' 'No' 'No' 'No' 'No' 'yes'\n",
      " 'No' 'No' 'No' 'yes' 'No' 'No' 'yes' 'yes' 'No' 'yes' 'No' 'yes' 'No'\n",
      " 'No' 'yes' 'yes' 'No' 'yes' 'No' 'yes' 'yes' 'No' 'No' 'No' 'No' 'No'\n",
      " 'yes' 'No' 'No' 'yes' 'yes' 'yes' 'yes' 'yes' 'No' 'yes' 'No' 'yes' 'No'\n",
      " 'No' 'No' 'yes' 'yes' 'No' 'No' 'yes' 'yes' 'No' 'No' 'No' 'yes' 'yes'\n",
      " 'No' 'No' 'yes' 'yes' 'yes' 'yes' 'yes' 'yes' 'yes' 'yes' 'yes' 'No'\n",
      " 'yes' 'yes' 'No' 'No' 'yes' 'No' 'yes' 'yes' 'No' 'No' 'yes' 'No' 'yes'\n",
      " 'yes' 'yes' 'yes' 'No' 'No' 'No' 'No' 'No' 'yes' 'No' 'yes' 'yes' 'No'\n",
      " 'yes' 'yes' 'No' 'No' 'No' 'yes' 'No' 'No' 'No' 'No' 'No' 'No' 'No' 'yes'\n",
      " 'yes' 'yes' 'yes' 'yes' 'yes' 'No' 'No' 'No' 'No' 'yes' 'No' 'yes' 'yes'\n",
      " 'yes' 'No' 'No' 'No' 'yes' 'yes' 'No' 'yes' 'No' 'No' 'No' 'yes' 'yes'\n",
      " 'No' 'No' 'yes' 'yes' 'No' 'No' 'yes' 'No' 'yes' 'yes' 'No' 'No' 'yes'\n",
      " 'yes']\n"
     ]
    }
   ],
   "source": [
    "y_pred=clf.predict(X_test)\n",
    "print(y_pred)"
   ]
  },
  {
   "cell_type": "code",
   "execution_count": 14,
   "id": "37504a1e-f33c-4920-8b67-1295fd986169",
   "metadata": {},
   "outputs": [
    {
     "name": "stdout",
     "output_type": "stream",
     "text": [
      "Accuracy is 100.0\n"
     ]
    }
   ],
   "source": [
    "print('Accuracy is', accuracy_score(y_test,y_pred)*100)"
   ]
  },
  {
   "cell_type": "code",
   "execution_count": null,
   "id": "201c0eeb-abc4-4b12-a010-ca613590d95c",
   "metadata": {},
   "outputs": [],
   "source": []
  }
 ],
 "metadata": {
  "kernelspec": {
   "display_name": "Python 3",
   "language": "python",
   "name": "python3"
  },
  "language_info": {
   "codemirror_mode": {
    "name": "ipython",
    "version": 3
   },
   "file_extension": ".py",
   "mimetype": "text/x-python",
   "name": "python",
   "nbconvert_exporter": "python",
   "pygments_lexer": "ipython3",
   "version": "3.8.8"
  }
 },
 "nbformat": 4,
 "nbformat_minor": 5
}
