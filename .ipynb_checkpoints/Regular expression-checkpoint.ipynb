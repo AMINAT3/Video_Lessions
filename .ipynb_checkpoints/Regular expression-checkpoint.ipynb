{
 "cells": [
  {
   "cell_type": "code",
   "execution_count": 1,
   "id": "d5ca0616-4565-4f94-b680-bd82c57f5953",
   "metadata": {},
   "outputs": [],
   "source": [
    "import re"
   ]
  },
  {
   "cell_type": "code",
   "execution_count": 2,
   "id": "e7d08bae-5bc8-40e2-9752-c6cdeab4a70a",
   "metadata": {},
   "outputs": [
    {
     "name": "stdout",
     "output_type": "stream",
     "text": [
      "wonderful!\n"
     ]
    }
   ],
   "source": [
    "text = 'This is a good day'\n",
    "if re.search ('good', text):\n",
    "    print(\"wonderful!\")\n",
    "else:\n",
    "    Print(\"alas: (\")"
   ]
  },
  {
   "cell_type": "code",
   "execution_count": 3,
   "id": "f7db5c5a-ca66-49c5-9bb2-f5a9ea17825e",
   "metadata": {},
   "outputs": [],
   "source": [
    "Text = \"Amy works dilligently. Amy get good grades. Our students Amy is succesful\""
   ]
  },
  {
   "cell_type": "code",
   "execution_count": 4,
   "id": "25446806-028d-43e9-a464-e9b827df60f4",
   "metadata": {},
   "outputs": [
    {
     "data": {
      "text/plain": [
       "['',\n",
       " ' works dilligently. ',\n",
       " ' get good grades. Our students ',\n",
       " ' is succesful']"
      ]
     },
     "execution_count": 4,
     "metadata": {},
     "output_type": "execute_result"
    }
   ],
   "source": [
    "re.split(\"Amy\", Text)"
   ]
  },
  {
   "cell_type": "code",
   "execution_count": 5,
   "id": "6cd6f0c2-f595-4935-bee4-c29543c4c2a8",
   "metadata": {},
   "outputs": [
    {
     "data": {
      "text/plain": [
       "['Amy', 'Amy', 'Amy']"
      ]
     },
     "execution_count": 5,
     "metadata": {},
     "output_type": "execute_result"
    }
   ],
   "source": [
    "re.findall(\"Amy\",Text)"
   ]
  },
  {
   "cell_type": "code",
   "execution_count": 6,
   "id": "e68be7fa-564a-43ee-a90c-eb80ca84acb4",
   "metadata": {},
   "outputs": [
    {
     "data": {
      "text/plain": [
       "<re.Match object; span=(0, 3), match='Amy'>"
      ]
     },
     "execution_count": 6,
     "metadata": {},
     "output_type": "execute_result"
    }
   ],
   "source": [
    "Text = \"Amy works dilligently. Amy get good grades. Our students Amy is succesful\"\n",
    "re.search('Amy',Text)"
   ]
  },
  {
   "cell_type": "code",
   "execution_count": 7,
   "id": "8ec4dffb-3b91-442e-82d7-e8775a73516b",
   "metadata": {},
   "outputs": [],
   "source": [
    "grade = 'BCABBABCABBBBCAAA'"
   ]
  },
  {
   "cell_type": "code",
   "execution_count": 8,
   "id": "3d1c08a2-141a-4fda-a74a-21f7d303f8a0",
   "metadata": {},
   "outputs": [
    {
     "data": {
      "text/plain": [
       "['B', 'B', 'B', 'B', 'B', 'B', 'B', 'B']"
      ]
     },
     "execution_count": 8,
     "metadata": {},
     "output_type": "execute_result"
    }
   ],
   "source": [
    "re.findall(\"B\",grade)"
   ]
  },
  {
   "cell_type": "code",
   "execution_count": 9,
   "id": "d351cced-8ae5-45e2-aae9-9df31929238d",
   "metadata": {},
   "outputs": [
    {
     "data": {
      "text/plain": [
       "['B', 'A', 'B', 'B', 'A', 'B', 'A', 'B', 'B', 'B', 'B', 'A', 'A', 'A']"
      ]
     },
     "execution_count": 9,
     "metadata": {},
     "output_type": "execute_result"
    }
   ],
   "source": [
    "re.findall(\"[AB]\",grade)"
   ]
  },
  {
   "cell_type": "code",
   "execution_count": 10,
   "id": "851b035e-66f4-4fed-837c-79432618ae15",
   "metadata": {},
   "outputs": [
    {
     "data": {
      "text/plain": [
       "['AB', 'AB', 'AB']"
      ]
     },
     "execution_count": 10,
     "metadata": {},
     "output_type": "execute_result"
    }
   ],
   "source": [
    "re.findall(\"[A][B.C]\",grade)"
   ]
  },
  {
   "cell_type": "code",
   "execution_count": 11,
   "id": "fe7e5ab1-5181-4b57-8182-7b64db128aea",
   "metadata": {},
   "outputs": [
    {
     "data": {
      "text/plain": [
       "['AB', 'AB', 'AB']"
      ]
     },
     "execution_count": 11,
     "metadata": {},
     "output_type": "execute_result"
    }
   ],
   "source": [
    "re.findall(\"AB|AC\",grade)"
   ]
  },
  {
   "cell_type": "code",
   "execution_count": 12,
   "id": "a0dad1ad-020b-426a-83a7-d27ae40c9097",
   "metadata": {},
   "outputs": [
    {
     "data": {
      "text/plain": [
       "['B', 'C', 'B', 'B', 'B', 'C', 'B', 'B', 'B', 'B', 'C']"
      ]
     },
     "execution_count": 12,
     "metadata": {},
     "output_type": "execute_result"
    }
   ],
   "source": [
    "re.findall(\"[^A]\",grade)"
   ]
  },
  {
   "cell_type": "code",
   "execution_count": 13,
   "id": "9455c28b-180a-424f-9263-4e0446ed381a",
   "metadata": {},
   "outputs": [
    {
     "data": {
      "text/plain": [
       "['B']"
      ]
     },
     "execution_count": 13,
     "metadata": {},
     "output_type": "execute_result"
    }
   ],
   "source": [
    "re.findall(\"^[^A]\",grade)"
   ]
  },
  {
   "cell_type": "markdown",
   "id": "8a3c6358-b9a4-4702-9b5c-f09dae267f40",
   "metadata": {},
   "source": [
    "### QUANTIFIERS"
   ]
  },
  {
   "cell_type": "code",
   "execution_count": 14,
   "id": "4a547f2d-a2e7-4669-9bf8-3ca47b05c86c",
   "metadata": {},
   "outputs": [
    {
     "data": {
      "text/plain": [
       "['AAA']"
      ]
     },
     "execution_count": 14,
     "metadata": {},
     "output_type": "execute_result"
    }
   ],
   "source": [
    "re.findall(\"A{2,10}\",grade)"
   ]
  },
  {
   "cell_type": "code",
   "execution_count": 15,
   "id": "3ec88586-e6a8-4b85-80ce-d9f3ad17fc87",
   "metadata": {},
   "outputs": [
    {
     "data": {
      "text/plain": [
       "['AA']"
      ]
     },
     "execution_count": 15,
     "metadata": {},
     "output_type": "execute_result"
    }
   ],
   "source": [
    "re.findall(\"A{1,1}A{1,1}\",grade)"
   ]
  },
  {
   "cell_type": "code",
   "execution_count": 16,
   "id": "d75e7c5d-769e-4b5f-8942-fe7190299782",
   "metadata": {},
   "outputs": [
    {
     "data": {
      "text/plain": [
       "[]"
      ]
     },
     "execution_count": 16,
     "metadata": {},
     "output_type": "execute_result"
    }
   ],
   "source": [
    "re.findall(\"A{2, 2}\",grade)"
   ]
  },
  {
   "cell_type": "code",
   "execution_count": 17,
   "id": "c7218bc2-667d-46c6-995d-86efa925582d",
   "metadata": {},
   "outputs": [
    {
     "data": {
      "text/plain": [
       "['AA']"
      ]
     },
     "execution_count": 17,
     "metadata": {},
     "output_type": "execute_result"
    }
   ],
   "source": [
    "re.findall(\"AA\",grade)"
   ]
  },
  {
   "cell_type": "code",
   "execution_count": 18,
   "id": "14097080-70b4-4752-93e7-74406a40d0fb",
   "metadata": {},
   "outputs": [
    {
     "data": {
      "text/plain": [
       "['AA']"
      ]
     },
     "execution_count": 18,
     "metadata": {},
     "output_type": "execute_result"
    }
   ],
   "source": [
    "re.findall(\"A{2}\",grade)"
   ]
  },
  {
   "cell_type": "code",
   "execution_count": 19,
   "id": "db86d354-7992-448d-a408-786d5ce6942d",
   "metadata": {},
   "outputs": [
    {
     "data": {
      "text/plain": [
       "[]"
      ]
     },
     "execution_count": 19,
     "metadata": {},
     "output_type": "execute_result"
    }
   ],
   "source": [
    "re.findall(\"A{1,10}B{1,1O}C{1,10}\",grade)"
   ]
  },
  {
   "cell_type": "code",
   "execution_count": 24,
   "id": "a6c1b1ec-3466-4268-9408-f2cd6e345f43",
   "metadata": {},
   "outputs": [
    {
     "ename": "FileNotFoundError",
     "evalue": "[Errno 2] No such file or directory: 'datasets/ferpa.txt'",
     "output_type": "error",
     "traceback": [
      "\u001b[1;31m---------------------------------------------------------------------------\u001b[0m",
      "\u001b[1;31mFileNotFoundError\u001b[0m                         Traceback (most recent call last)",
      "\u001b[1;32m<ipython-input-24-234626aaaf4b>\u001b[0m in \u001b[0;36m<module>\u001b[1;34m\u001b[0m\n\u001b[1;32m----> 1\u001b[1;33m \u001b[1;32mwith\u001b[0m \u001b[0mopen\u001b[0m\u001b[1;33m(\u001b[0m\u001b[1;34m'datasets/ferpa.txt'\u001b[0m\u001b[1;33m,\u001b[0m\u001b[1;34m'r'\u001b[0m\u001b[1;33m)\u001b[0m \u001b[1;32mas\u001b[0m \u001b[0mfile\u001b[0m\u001b[1;33m:\u001b[0m\u001b[1;33m\u001b[0m\u001b[1;33m\u001b[0m\u001b[0m\n\u001b[0m\u001b[0;32m      2\u001b[0m     \u001b[0mwiki\u001b[0m \u001b[1;33m=\u001b[0m \u001b[0mfile\u001b[0m\u001b[1;33m.\u001b[0m\u001b[0mread\u001b[0m\u001b[1;33m(\u001b[0m\u001b[1;33m)\u001b[0m\u001b[1;33m\u001b[0m\u001b[1;33m\u001b[0m\u001b[0m\n\u001b[0;32m      3\u001b[0m     \u001b[0mwiki\u001b[0m\u001b[1;33m\u001b[0m\u001b[1;33m\u001b[0m\u001b[0m\n",
      "\u001b[1;31mFileNotFoundError\u001b[0m: [Errno 2] No such file or directory: 'datasets/ferpa.txt'"
     ]
    }
   ],
   "source": [
    "with open('datasets/ferpa.txt','r') as file:\n",
    "    wiki = file.read()\n",
    "wiki"
   ]
  },
  {
   "cell_type": "code",
   "execution_count": null,
   "id": "2df4c27e-ef81-4d3b-9444-d82a418951de",
   "metadata": {},
   "outputs": [],
   "source": [
    "re.findall('[a-zA-Z] {1,100}\\[edit\\]'wiki)"
   ]
  },
  {
   "cell_type": "code",
   "execution_count": null,
   "id": "5a1be0ad-8f50-4563-ac72-3ee422655e57",
   "metadata": {},
   "outputs": [],
   "source": [
    "re.findall('[\\w]*\\[edit\\]',wiki)"
   ]
  },
  {
   "cell_type": "code",
   "execution_count": null,
   "id": "c846301b-a552-4399-a2fd-6bf642080fe7",
   "metadata": {},
   "outputs": [],
   "source": [
    "for title in re.findall('[\\w]*\\[edit\\]',wiki):\n",
    "    print(re.split('[\\[]]', title)[0])"
   ]
  },
  {
   "cell_type": "markdown",
   "id": "5e0708f0-190e-4aa0-ab38-7396c872a73f",
   "metadata": {},
   "source": [
    "### GROUPS"
   ]
  },
  {
   "cell_type": "code",
   "execution_count": null,
   "id": "70fc5b1b-a846-4ff7-ba9f-b5ad522cee4d",
   "metadata": {},
   "outputs": [],
   "source": [
    "re.findall('[\\w]*\\[edit\\]',wiki)"
   ]
  },
  {
   "cell_type": "code",
   "execution_count": null,
   "id": "4942c67e-bbfe-4dfa-973b-6cb8f27f96ab",
   "metadata": {},
   "outputs": [],
   "source": [
    "for item in re.finditer('[\\w]*\\[edit\\]',wiki):\n",
    "    print(item.groups())"
   ]
  },
  {
   "cell_type": "code",
   "execution_count": null,
   "id": "584ab9ef-d90c-4485-91df-f12d561f32ce",
   "metadata": {},
   "outputs": [],
   "source": [
    "for item in re.finditer('[\\w]*\\[edit\\]',wiki):\n",
    "    print(item.groups(1))"
   ]
  },
  {
   "cell_type": "code",
   "execution_count": null,
   "id": "6ded2fd8-f710-4096-af2b-243057acb105",
   "metadata": {},
   "outputs": [],
   "source": [
    "for item in re.finditer(\"(?p<title>[\\w]*)(?p<edit_link>\\[edit\\])\",wiki)\n",
    "    print(item.groupdict()['title'])"
   ]
  },
  {
   "cell_type": "code",
   "execution_count": null,
   "id": "875b7231-8b3e-4cae-bd2e-2bf409fea414",
   "metadata": {},
   "outputs": [],
   "source": [
    "print(item.groupdict())"
   ]
  },
  {
   "cell_type": "markdown",
   "id": "c6f624c3-a41c-4d81-8cce-d57839ec4d1f",
   "metadata": {},
   "source": [
    "### LOOK- AHEAD AND LOOK-BEHIND"
   ]
  },
  {
   "cell_type": "code",
   "execution_count": null,
   "id": "5a936402-05b7-459d-82d2-5da925715c32",
   "metadata": {},
   "outputs": [],
   "source": [
    "for item in re.finditer(\"(?p<title>[\\w] + )(?=\\[edit\\])\",wiki)\n",
    "    print(item)"
   ]
  },
  {
   "cell_type": "code",
   "execution_count": null,
   "id": "ff9c11e6-ede8-421b-ac93-8e9528d36739",
   "metadata": {},
   "outputs": [],
   "source": [
    "with open('datasets/buddhist.txt','r') as file:\n",
    "     wiki = file.read()\n",
    "wiki"
   ]
  },
  {
   "cell_type": "code",
   "execution_count": null,
   "id": "061ae5b5-7993-4250-8f29-02f1b83bbf60",
   "metadata": {},
   "outputs": [],
   "source": [
    "pattern=\"\"\"\n",
    "(?p<title>.*)     #the university title\n",
    "(-\\located\\ in\\)  #an indicator of the location\n",
    "(?p<city>\\w*)     #city the university is in\n",
    "(,\\)              #seperator of the state\n",
    "(?p<state>\\w*)    #the state the city is located in \"\"\"\n",
    "\n",
    "for item in re.finditer(pattern,wiki,re.VERBOSE):\n",
    "    print(item.groupdict())"
   ]
  },
  {
   "cell_type": "markdown",
   "id": "7078b452-bbba-4c03-a547-cf484062c2a4",
   "metadata": {},
   "source": [
    "### EXAMPLE:NEW YORK TIMES AND HASHTAGS"
   ]
  },
  {
   "cell_type": "code",
   "execution_count": null,
   "id": "af772619-6038-4c0a-8952-9dbecabdf21f",
   "metadata": {},
   "outputs": [],
   "source": [
    "with open('datasets/mytimeshealth.txt','r') as file:\n",
    "    health= file.read()\n",
    "health"
   ]
  },
  {
   "cell_type": "code",
   "execution_count": null,
   "id": "8810c5c8-2fd2-4eb5-bacd-d70d7bd04387",
   "metadata": {},
   "outputs": [],
   "source": [
    "pattern = '#[\\w\\d]*(?=\\s)'"
   ]
  },
  {
   "cell_type": "code",
   "execution_count": null,
   "id": "3a5a3ba4-e422-47a5-9f31-21e2efabf14f",
   "metadata": {},
   "outputs": [],
   "source": [
    "re.findall(pattern,health)"
   ]
  },
  {
   "cell_type": "markdown",
   "id": "b8cdd67c-c3a9-47ee-97da-50294729a9f7",
   "metadata": {},
   "source": [
    "### 2nd video"
   ]
  },
  {
   "cell_type": "code",
   "execution_count": 1,
   "id": "08746138-98c9-41f1-beec-cb566b6b62dc",
   "metadata": {},
   "outputs": [],
   "source": [
    "import re"
   ]
  },
  {
   "cell_type": "code",
   "execution_count": 2,
   "id": "e96f3468-c30e-4789-a8ad-f358e5a329a2",
   "metadata": {},
   "outputs": [],
   "source": [
    "nameage = '''\n",
    "Janice is 22 years old and theon is 33\n",
    "Gabriel is 44 and joey is 21\n",
    "'''"
   ]
  },
  {
   "cell_type": "code",
   "execution_count": 3,
   "id": "afdb6f2c-ac5d-4e52-b646-b67ed8165df1",
   "metadata": {},
   "outputs": [],
   "source": [
    "ages = re.findall(r'\\d{1,3}',nameage)\n",
    "names = re.findall(r'[A-z][a-z]*',nameage)"
   ]
  },
  {
   "cell_type": "code",
   "execution_count": 4,
   "id": "1f5455c1-5475-4729-bcd7-7209bd663a6f",
   "metadata": {},
   "outputs": [],
   "source": [
    "agedict = {}"
   ]
  },
  {
   "cell_type": "code",
   "execution_count": 5,
   "id": "3c9caf81-aab5-4aa6-9b38-fd5147579bd6",
   "metadata": {},
   "outputs": [],
   "source": [
    "x=0"
   ]
  },
  {
   "cell_type": "code",
   "execution_count": 6,
   "id": "6443d76f-65b7-44f4-a822-7c3c5c589962",
   "metadata": {},
   "outputs": [],
   "source": [
    "import re"
   ]
  },
  {
   "cell_type": "code",
   "execution_count": 7,
   "id": "2c9ab3d3-79fd-42cb-8de9-17b65ecb07bd",
   "metadata": {},
   "outputs": [
    {
     "name": "stdout",
     "output_type": "stream",
     "text": [
      "This is to inform\n"
     ]
    }
   ],
   "source": [
    "if re.search('inform','We need to inform him with the latest information'):\n",
    "    print('This is to inform')"
   ]
  },
  {
   "cell_type": "code",
   "execution_count": 8,
   "id": "4a1181b4-fc4d-4846-a99c-48509b533c12",
   "metadata": {},
   "outputs": [
    {
     "name": "stdout",
     "output_type": "stream",
     "text": [
      "inform\n",
      "inform\n"
     ]
    }
   ],
   "source": [
    "allinform = re.findall('inform','We need to inform him with the latest information')\n",
    "for i in allinform:\n",
    "    print(i)"
   ]
  },
  {
   "cell_type": "code",
   "execution_count": 9,
   "id": "3a5564e0-7379-4426-aa38-8c7270bea3a0",
   "metadata": {},
   "outputs": [],
   "source": [
    "import re"
   ]
  },
  {
   "cell_type": "code",
   "execution_count": 10,
   "id": "2513caec-0232-476a-b256-97f067bb058e",
   "metadata": {},
   "outputs": [
    {
     "name": "stdout",
     "output_type": "stream",
     "text": [
      "(11, 17)\n",
      "(38, 44)\n"
     ]
    }
   ],
   "source": [
    "str = ('We need to inform him with the latest information')\n",
    "for i in re.finditer('inform',str):\n",
    "    loctup = i.span()\n",
    "    print(loctup)"
   ]
  },
  {
   "cell_type": "code",
   "execution_count": 11,
   "id": "5f674a6b-5279-415c-bb61-ff70ef49c1d5",
   "metadata": {},
   "outputs": [],
   "source": [
    "import re"
   ]
  },
  {
   "cell_type": "code",
   "execution_count": 12,
   "id": "06e8972c-0c43-4228-aef0-676f5c549660",
   "metadata": {},
   "outputs": [],
   "source": [
    "str = 'sat,hat,mat,pat'\n",
    "allstr = re.findall('[shmp]at',str)\n"
   ]
  },
  {
   "cell_type": "code",
   "execution_count": 13,
   "id": "a3605ca2-0dba-4b41-9e72-d719cc9957f2",
   "metadata": {},
   "outputs": [
    {
     "name": "stdout",
     "output_type": "stream",
     "text": [
      "sat\n",
      "hat\n",
      "mat\n",
      "pat\n"
     ]
    }
   ],
   "source": [
    "for i in allstr:\n",
    "    print(i)"
   ]
  },
  {
   "cell_type": "code",
   "execution_count": 14,
   "id": "b6fc663c-fb06-449a-bea5-c233e661409b",
   "metadata": {},
   "outputs": [],
   "source": [
    "str = 'sat,hat,mat,pat'\n",
    "someStr =  re.findall('[h-m]at',str)"
   ]
  },
  {
   "cell_type": "code",
   "execution_count": 15,
   "id": "ce9769fe-e901-41b9-bb65-a8ce4ad976da",
   "metadata": {},
   "outputs": [
    {
     "name": "stdout",
     "output_type": "stream",
     "text": [
      "hat\n",
      "mat\n"
     ]
    }
   ],
   "source": [
    "for i in someStr:\n",
    "    print(i)"
   ]
  },
  {
   "cell_type": "code",
   "execution_count": 16,
   "id": "3f15ed69-0b77-43b4-b8c0-9a8f1f002ec5",
   "metadata": {},
   "outputs": [],
   "source": [
    "str = 'sat,hat,mat,pat'\n",
    "someStr =  re.findall('[h-z]at',str)"
   ]
  },
  {
   "cell_type": "code",
   "execution_count": 17,
   "id": "4a79c94b-8c9d-4394-aadb-d2fa53038686",
   "metadata": {},
   "outputs": [
    {
     "name": "stdout",
     "output_type": "stream",
     "text": [
      "sat\n",
      "hat\n",
      "mat\n",
      "pat\n"
     ]
    }
   ],
   "source": [
    "for i in someStr:\n",
    "    print(i)"
   ]
  },
  {
   "cell_type": "code",
   "execution_count": 18,
   "id": "de3d27da-5397-4fe1-986c-9223137fca8a",
   "metadata": {},
   "outputs": [],
   "source": [
    "Food = 'hat rat mat pat'\n",
    "regex=  re.compile('[r]at')\n"
   ]
  },
  {
   "cell_type": "code",
   "execution_count": 19,
   "id": "bd11e678-678e-4710-8fd3-a6d407b1bd73",
   "metadata": {},
   "outputs": [
    {
     "name": "stdout",
     "output_type": "stream",
     "text": [
      "hat food mat pat\n"
     ]
    }
   ],
   "source": [
    "food  = regex.sub('food',Food)\n",
    "print(food)"
   ]
  },
  {
   "cell_type": "code",
   "execution_count": 20,
   "id": "d2771d0d-fb43-4c96-8efa-4979a1e28f44",
   "metadata": {},
   "outputs": [
    {
     "name": "stdout",
     "output_type": "stream",
     "text": [
      "here is \\drogba\n"
     ]
    }
   ],
   "source": [
    "randstr = \"here is \\\\drogba\"\n",
    "print(randstr)"
   ]
  },
  {
   "cell_type": "code",
   "execution_count": 21,
   "id": "29fb6aab-0a9f-470a-abc9-9e102e9c2be5",
   "metadata": {},
   "outputs": [
    {
     "name": "stdout",
     "output_type": "stream",
     "text": [
      "<re.Match object; span=(8, 15), match='\\\\drogba'>\n"
     ]
    }
   ],
   "source": [
    "print(re.search(r\"\\\\drogba\", randstr))"
   ]
  },
  {
   "cell_type": "code",
   "execution_count": 22,
   "id": "ba716007-3358-425d-9284-7099282a26f8",
   "metadata": {},
   "outputs": [
    {
     "name": "stdout",
     "output_type": "stream",
     "text": [
      "\n",
      "Keep the blue flag\n",
      "flying high\n",
      "Chelsea\n",
      "\n"
     ]
    }
   ],
   "source": [
    "randstr = '''\n",
    "Keep the blue flag\n",
    "flying high\n",
    "Chelsea\n",
    "'''\n",
    "print(randstr)"
   ]
  },
  {
   "cell_type": "code",
   "execution_count": 23,
   "id": "afeff42b-fa9d-403e-8c96-1c1639eb740f",
   "metadata": {},
   "outputs": [
    {
     "name": "stdout",
     "output_type": "stream",
     "text": [
      " Keep the blue flag flying high Chelsea \n"
     ]
    }
   ],
   "source": [
    "regex = re.compile(\"\\n\")\n",
    "randstr = regex.sub(\" \", randstr)\n",
    "print(randstr)"
   ]
  },
  {
   "cell_type": "code",
   "execution_count": 24,
   "id": "eb84ef48-b995-4890-9aad-a19a7cbc9589",
   "metadata": {},
   "outputs": [
    {
     "name": "stdout",
     "output_type": "stream",
     "text": [
      "Matches: 5\n"
     ]
    }
   ],
   "source": [
    "randstr= \"12345\"\n",
    "print(\"Matches:\", len(re.findall(\"\\d\", randstr)))"
   ]
  },
  {
   "cell_type": "code",
   "execution_count": 25,
   "id": "13b750f9-3920-4912-b506-4bc8b88c8ccb",
   "metadata": {},
   "outputs": [
    {
     "name": "stdout",
     "output_type": "stream",
     "text": [
      "Matches: 0\n"
     ]
    }
   ],
   "source": [
    "print(\"Matches:\", len(re.findall(\"\\D\", randstr)))"
   ]
  },
  {
   "cell_type": "code",
   "execution_count": 26,
   "id": "0c44e4ee-e7d8-470b-b344-eb471c0839fe",
   "metadata": {},
   "outputs": [
    {
     "name": "stdout",
     "output_type": "stream",
     "text": [
      "Matches: 1\n"
     ]
    }
   ],
   "source": [
    "print(\"Matches:\", len(re.findall(\"\\d{5}\", randstr)))"
   ]
  },
  {
   "cell_type": "code",
   "execution_count": 27,
   "id": "98a1b693-af82-4ae2-9e5b-aabd44490d0b",
   "metadata": {},
   "outputs": [
    {
     "name": "stdout",
     "output_type": "stream",
     "text": [
      "Matches: 3\n"
     ]
    }
   ],
   "source": [
    "num = \"123 1234 12345 123456 1234567\"\n",
    "print(\"Matches:\", len(re.findall(\"\\d{5,7}\", num)))"
   ]
  },
  {
   "cell_type": "code",
   "execution_count": 30,
   "id": "f382a12d-8bbc-485b-8ee2-0caf90f9e0f7",
   "metadata": {},
   "outputs": [
    {
     "name": "stdout",
     "output_type": "stream",
     "text": [
      "it is a phone number\n"
     ]
    }
   ],
   "source": [
    "# \\w[a-zA-Z0-9] \n",
    "# \\W[^a-zA-Z0-9]\n",
    "\n",
    "phn = \"412-555-1212\"\n",
    "\n",
    "if re.search(\"\\w{3}-\\w{3}-\\w{4}\", phn):\n",
    "    print(\"it is a phone number\")"
   ]
  },
  {
   "cell_type": "code",
   "execution_count": 32,
   "id": "bf7bafdc-74c5-4ae5-9f70-45679db01d6a",
   "metadata": {},
   "outputs": [],
   "source": [
    "phn = \"412-5551-1212\"\n",
    "\n",
    "if re.search(\"\\w{3}-\\w{3}-\\w{4}\", phn):\n",
    "    print(\"it is a phone number\")"
   ]
  },
  {
   "cell_type": "code",
   "execution_count": 34,
   "id": "382dc141-204a-4d17-a5a5-f007be3425a2",
   "metadata": {},
   "outputs": [
    {
     "name": "stdout",
     "output_type": "stream",
     "text": [
      "it is a phone number\n"
     ]
    }
   ],
   "source": [
    "phn = \"412-555-1212\"\n",
    "\n",
    "if re.search(\"\\d{3}-\\d{3}-\\d{4}\", phn):\n",
    "    print(\"it is a phone number\")"
   ]
  },
  {
   "cell_type": "code",
   "execution_count": 35,
   "id": "2eefa0df-5eae-4de0-b5a1-e0b77b6cbf5f",
   "metadata": {},
   "outputs": [
    {
     "name": "stdout",
     "output_type": "stream",
     "text": [
      "full name is valid\n"
     ]
    }
   ],
   "source": [
    "#\\s [\\f\\n\\r\\t\\v]\n",
    "#\\S [^\\f\\n\\r\\t\\v]\n",
    "\n",
    "if re.search(\"\\w{2,20}\\s\\w{2,20}\", \"Suarabh Kulshrestha\"):\n",
    "    print(\"full name is valid\")"
   ]
  },
  {
   "cell_type": "code",
   "execution_count": 37,
   "id": "665c085e-34bb-4ce7-952c-3f721c4eb381",
   "metadata": {},
   "outputs": [
    {
     "name": "stdout",
     "output_type": "stream",
     "text": [
      "EmailMatches: 3\n"
     ]
    }
   ],
   "source": [
    "email = \"sk@aol.com md@.com @seo.com dc@.com\"\n",
    "print(\"EmailMatches:\", len(re.findall(\"[\\w._%+-]{2,20}.[A-Za-z]{2,3}\", email)))"
   ]
  },
  {
   "cell_type": "code",
   "execution_count": null,
   "id": "018a6271-2003-40bc-9415-baf4a2271801",
   "metadata": {},
   "outputs": [],
   "source": [
    "import urllib.request\n",
    "from re import findall\n",
    "\n",
    "url = \"http://www.summet.com/dmsi/html/codesamples/addresses.html\"\n",
    "\n",
    "response = urllib.request.urlopen(url)\n",
    "html = response.read()\n",
    "htmt"
   ]
  }
 ],
 "metadata": {
  "kernelspec": {
   "display_name": "Python 3",
   "language": "python",
   "name": "python3"
  },
  "language_info": {
   "codemirror_mode": {
    "name": "ipython",
    "version": 3
   },
   "file_extension": ".py",
   "mimetype": "text/x-python",
   "name": "python",
   "nbconvert_exporter": "python",
   "pygments_lexer": "ipython3",
   "version": "3.8.8"
  }
 },
 "nbformat": 4,
 "nbformat_minor": 5
}
