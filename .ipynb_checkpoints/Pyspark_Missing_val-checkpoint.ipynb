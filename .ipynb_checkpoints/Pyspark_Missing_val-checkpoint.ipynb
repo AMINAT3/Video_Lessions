{
 "cells": [
  {
   "cell_type": "code",
   "execution_count": 1,
   "id": "69dbef05",
   "metadata": {},
   "outputs": [],
   "source": [
    "import pyspark"
   ]
  },
  {
   "cell_type": "code",
   "execution_count": 2,
   "id": "f83f8770",
   "metadata": {},
   "outputs": [],
   "source": [
    "from pyspark.sql import SparkSession"
   ]
  },
  {
   "cell_type": "code",
   "execution_count": 4,
   "id": "8141fc96",
   "metadata": {},
   "outputs": [],
   "source": [
    "spark = SparkSession.builder.appName('Practise').getOrCreate"
   ]
  },
  {
   "cell_type": "code",
   "execution_count": null,
   "id": "71f76f3f",
   "metadata": {},
   "outputs": [],
   "source": [
    "spark.read.csv('C:\\\\Users\\\\Zachary_B\\\\Desktop\\\\dataset\\\\test2.csv', header=True, infer)"
   ]
  }
 ],
 "metadata": {
  "kernelspec": {
   "display_name": "Python 3 (ipykernel)",
   "language": "python",
   "name": "python3"
  },
  "language_info": {
   "codemirror_mode": {
    "name": "ipython",
    "version": 3
   },
   "file_extension": ".py",
   "mimetype": "text/x-python",
   "name": "python",
   "nbconvert_exporter": "python",
   "pygments_lexer": "ipython3",
   "version": "3.9.7"
  }
 },
 "nbformat": 4,
 "nbformat_minor": 5
}
