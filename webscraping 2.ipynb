{
 "cells": [
  {
   "cell_type": "markdown",
   "id": "a98bd272-83db-41ff-af67-1a8533a03203",
   "metadata": {},
   "source": [
    "### Application program interface"
   ]
  },
  {
   "cell_type": "code",
   "execution_count": null,
   "id": "d23e00a6-9ce9-4a05-bb98-6a3f090a1ec3",
   "metadata": {},
   "outputs": [],
   "source": [
    "# its let 2 pieces of software talk to each other\n",
    "# u use api to comm with another api via the funtns\n",
    "# we use panda api to comm with other software component\n",
    "# when u create a dict and create a pandas obj with data construtor in api lingo the data is passed to the panda api\n",
    "# when u greate a funtn the data frame comm wiyh the api and displacw the function\n",
    "\n",
    "# rest api allows you to comm throuh pther api they allow internet comm"
   ]
  },
  {
   "cell_type": "code",
   "execution_count": 1,
   "id": "9ec9634e-c438-4861-8875-5a96068962a1",
   "metadata": {},
   "outputs": [],
   "source": [
    "import requests \n",
    "from bs4 import BeautifulSoup"
   ]
  },
  {
   "cell_type": "code",
   "execution_count": 11,
   "id": "b56e27ad-fc6c-4048-91dc-29c81ad716cd",
   "metadata": {},
   "outputs": [],
   "source": [
    "base_site = \"https://en.wikipedia.org/wiki/List_of_national_capitals_by_population\""
   ]
  },
  {
   "cell_type": "code",
   "execution_count": 12,
   "id": "6f58be97-49e0-4f92-bc2f-e7245fceb1ea",
   "metadata": {},
   "outputs": [],
   "source": [
    "r = requests.get(base_site)"
   ]
  },
  {
   "cell_type": "code",
   "execution_count": 6,
   "id": "c60254ab-a2c3-43c9-9417-03effb03d7a5",
   "metadata": {},
   "outputs": [],
   "source": [
    "html = r.content"
   ]
  },
  {
   "cell_type": "markdown",
   "id": "8e2d6794-cf9f-4814-bc52-92b08a96694b",
   "metadata": {},
   "source": [
    "### Extracting tables with beautifulsoup"
   ]
  },
  {
   "cell_type": "code",
   "execution_count": 13,
   "id": "8460ae9f-97ed-4f2c-9da0-07432da91291",
   "metadata": {},
   "outputs": [],
   "source": [
    "soup = BeautifulSoup(html, 'lxml')"
   ]
  },
  {
   "cell_type": "code",
   "execution_count": 19,
   "id": "4d0c0582-59e9-463a-80d7-022adf600b1a",
   "metadata": {},
   "outputs": [],
   "source": [
    "table = soup.find_all('table')[1]"
   ]
  },
  {
   "cell_type": "code",
   "execution_count": 20,
   "id": "2a7b636e-57fe-4c72-8dc2-05f513dac120",
   "metadata": {},
   "outputs": [
    {
     "data": {
      "text/plain": [
       "['\\n',\n",
       " <th>Country (or territory)</th>,\n",
       " '\\n',\n",
       " <th>Capital</th>,\n",
       " '\\n',\n",
       " <th>Population</th>,\n",
       " '\\n',\n",
       " <th style=\"max-width:4em\">% of country</th>,\n",
       " '\\n',\n",
       " <th>Source\n",
       " </th>]"
      ]
     },
     "execution_count": 20,
     "metadata": {},
     "output_type": "execute_result"
    }
   ],
   "source": [
    "table.find_all('tr')[0].contents"
   ]
  },
  {
   "cell_type": "code",
   "execution_count": 22,
   "id": "7d018352-397d-4446-91b9-98076e6bafe6",
   "metadata": {},
   "outputs": [
    {
     "data": {
      "text/plain": [
       "['Capital',\n",
       " ' Beijing',\n",
       " ' Tokyo',\n",
       " ' Kinshasa',\n",
       " ' Moscow',\n",
       " ' Jakarta',\n",
       " ' Seoul',\n",
       " ' Cairo',\n",
       " ' Mexico City',\n",
       " ' London',\n",
       " ' Dhaka',\n",
       " ' Lima',\n",
       " ' Tehran',\n",
       " ' Bangkok',\n",
       " ' Hanoi',\n",
       " ' Riyadh',\n",
       " ' Hong Kong',\n",
       " ' Bogotá',\n",
       " ' Baghdad',\n",
       " ' Santiago',\n",
       " ' Singapore',\n",
       " ' Ankara',\n",
       " ' Berlin',\n",
       " ' Damascus',\n",
       " ' Algiers',\n",
       " ' Madrid',\n",
       " ' Pyongyang',\n",
       " ' Kabul',\n",
       " ' Nairobi',\n",
       " ' Addis Ababa',\n",
       " ' Buenos Aires',\n",
       " ' Rome',\n",
       " ' Kyiv',\n",
       " ' Yaoundé',\n",
       " ' Taipei',\n",
       " ' Brasília',\n",
       " ' Amman',\n",
       " ' Luanda',\n",
       " ' Guatemala City',\n",
       " ' Pretoria',\n",
       " ' Paris',\n",
       " ' Tashkent',\n",
       " ' Baku',\n",
       " ' Havana',\n",
       " ' Phnom Penh',\n",
       " ' Bucharest',\n",
       " ' Khartoum',\n",
       " ' Caracas',\n",
       " ' Brazzaville',\n",
       " ' Rabat',\n",
       " ' Manila',\n",
       " ' Vienna',\n",
       " ' Budapest',\n",
       " ' Warsaw',\n",
       " ' Minsk',\n",
       " ' Kampala',\n",
       " ' Accra',\n",
       " ' Antananarivo',\n",
       " ' Beirut',\n",
       " ' Quito',\n",
       " ' Harare',\n",
       " ' Doha',\n",
       " \" Sana'a\",\n",
       " ' Conakry',\n",
       " ' Kuala Lumpur',\n",
       " ' Montevideo',\n",
       " ' Lusaka',\n",
       " ' Bamako',\n",
       " ' Sofia',\n",
       " ' Prague',\n",
       " ' Port-au-Prince',\n",
       " ' Tripoli',\n",
       " ' Dublin',\n",
       " ' Kuwait City',\n",
       " ' Belgrade',\n",
       " ' Santo Domingo',\n",
       " ' Mogadishu',\n",
       " ' Yerevan',\n",
       " ' Maputo',\n",
       " ' Freetown',\n",
       " ' Tbilisi',\n",
       " ' Dakar',\n",
       " ' Nur-Sultan',\n",
       " ' Islamabad',\n",
       " ' Monrovia',\n",
       " ' Ouagadougou',\n",
       " ' Kathmandu',\n",
       " ' Stockholm',\n",
       " ' Ottawa',\n",
       " ' Jerusalem[44]',\n",
       " ' Managua',\n",
       " ' Naypyidaw',\n",
       " ' Ulaanbaatar',\n",
       " ' Lilongwe',\n",
       " ' Amsterdam',\n",
       " ' Bishkek',\n",
       " ' Lomé',\n",
       " ' Panama City',\n",
       " ' Zagreb',\n",
       " ' Muscat',\n",
       " ' Niamey',\n",
       " ' Chişinău',\n",
       " ' Copenhagen',\n",
       " ' Abuja',\n",
       " ' Tunis',\n",
       " ' Tirana',\n",
       " ' Ashgabat',\n",
       " \" N'Djamena\",\n",
       " ' Tegucigalpa',\n",
       " ' Bangui',\n",
       " ' Nouakchott',\n",
       " ' Kigali',\n",
       " ' Riga',\n",
       " ' Washington, D.C.',\n",
       " ' Kingston',\n",
       " ' Asmara',\n",
       " ' Athens',\n",
       " ' Oslo',\n",
       " ' Helsinki',\n",
       " ' Abu Dhabi',\n",
       " ' Dushanbe',\n",
       " ' Lisbon',\n",
       " ' Vilnius',\n",
       " ' Libreville',\n",
       " ' San Salvador',\n",
       " ' Skopje',\n",
       " ' Asunción',\n",
       " ' Macau',\n",
       " ' Djibouti (city)',\n",
       " ' Yamoussoukro',\n",
       " ' Bissau',\n",
       " ' Tallinn',\n",
       " ' Bratislava',\n",
       " ' San Juan',\n",
       " ' Canberra',\n",
       " ' Sarajevo',\n",
       " ' Juba',\n",
       " ' San José',\n",
       " ' Port Moresby',\n",
       " ' Vientiane',\n",
       " ' Dodoma',\n",
       " ' Ljubljana',\n",
       " ' Nicosia',\n",
       " ' Maseru',\n",
       " ' Sucre',\n",
       " ' New Delhi',\n",
       " ' Paramaribo',\n",
       " ' Windhoek',\n",
       " ' Nassau',\n",
       " ' Gaborone',\n",
       " ' Porto-Novo',\n",
       " ' Wellington',\n",
       " ' Prishtina',\n",
       " ' El Aaiún (claimed)Tifariti (de facto)\\n',\n",
       " ' Tiraspol',\n",
       " ' Brussels',\n",
       " ' Port Louis',\n",
       " ' Podgorica',\n",
       " ' Manama',\n",
       " ' Georgetown',\n",
       " ' Praia',\n",
       " ' Bern (de facto)',\n",
       " ' Luxembourg City',\n",
       " ' Sri Jayawardenepura Kotte',\n",
       " ' Reykjavík',\n",
       " ' Bridgetown',\n",
       " ' Malé',\n",
       " ' Thimphu',\n",
       " ' Malabo',\n",
       " ' Nouméa',\n",
       " ' Suva',\n",
       " ' Mbabane',\n",
       " ' Castries',\n",
       " ' Saipan',\n",
       " ' Moroni',\n",
       " ' Honiara',\n",
       " ' Dili',\n",
       " ' São Tomé',\n",
       " ' Pago Pago',\n",
       " ' Port of Spain',\n",
       " ' Stepanakert',\n",
       " ' Willemstad',\n",
       " ' Gitega',\n",
       " ' Kingstown',\n",
       " ' Apia',\n",
       " ' Port Vila',\n",
       " ' Monaco',\n",
       " ' Banjul',\n",
       " ' Tarawa',\n",
       " ' Oranjestad',\n",
       " ' Victoria',\n",
       " ' Gibraltar',\n",
       " ' Saint Helier',\n",
       " ' Bandar Seri Begawan',\n",
       " ' George Town',\n",
       " ' Douglas',\n",
       " ' Papeete',\n",
       " ' Ramallah (de facto)',\n",
       " ' Majuro',\n",
       " ' Andorra la Vella',\n",
       " \" St. John's\",\n",
       " ' Nukuʻalofa',\n",
       " ' Tórshavn',\n",
       " ' St. Peter Port',\n",
       " ' Belmopan',\n",
       " ' Nuuk (Godthåb)',\n",
       " ' Roseau',\n",
       " ' Basseterre',\n",
       " ' Mariehamn',\n",
       " ' Charlotte Amalie',\n",
       " ' Palikir',\n",
       " ' Road Town',\n",
       " \" St. George's\",\n",
       " ' Valletta',\n",
       " ' Gustavia',\n",
       " ' Marigot',\n",
       " ' Saint-Pierre',\n",
       " ' Avarua',\n",
       " ' Vaduz',\n",
       " ' City of San Marino',\n",
       " ' Funafuti',\n",
       " ' Cockburn Town',\n",
       " ' Stanley',\n",
       " ' Longyearbyen',\n",
       " ' Flying Fish Cove',\n",
       " ' Philipsburg',\n",
       " ' Mata-Utu',\n",
       " ' The Valley',\n",
       " ' Yaren (de facto)',\n",
       " ' Hagåtña',\n",
       " ' Hamilton',\n",
       " ' Vatican City (city-state)',\n",
       " ' Jamestown',\n",
       " ' Alofi',\n",
       " ' Atafu',\n",
       " ' Brades (de facto)Plymouth (de jure)',\n",
       " ' Ngerulmud',\n",
       " ' West Island',\n",
       " ' Adamstown',\n",
       " ' King Edward Point',\n",
       " ' Kingston (de facto)']"
      ]
     },
     "execution_count": 22,
     "metadata": {},
     "output_type": "execute_result"
    }
   ],
   "source": [
    "capitals = [row.contents[3].text for row in table.find_all('tr')]\n",
    "capitals"
   ]
  },
  {
   "cell_type": "code",
   "execution_count": 34,
   "id": "9fc246ab-601f-4fcd-9d63-7ce59f96bfa7",
   "metadata": {},
   "outputs": [],
   "source": [
    "import pandas as pd"
   ]
  },
  {
   "cell_type": "code",
   "execution_count": 26,
   "id": "c5637d4b-b342-4cbb-875d-0055b26c1e2e",
   "metadata": {},
   "outputs": [],
   "source": [
    "tables = pd.read_html(base_site)"
   ]
  },
  {
   "cell_type": "code",
   "execution_count": 27,
   "id": "07c1d106-4d82-4a37-8349-817f6fd19674",
   "metadata": {},
   "outputs": [
    {
     "data": {
      "text/plain": [
       "pandas.core.frame.DataFrame"
      ]
     },
     "execution_count": 27,
     "metadata": {},
     "output_type": "execute_result"
    }
   ],
   "source": [
    "type(tables[0])"
   ]
  },
  {
   "cell_type": "code",
   "execution_count": 28,
   "id": "888e682b-dff0-432b-8844-53af782acb19",
   "metadata": {},
   "outputs": [
    {
     "data": {
      "text/plain": [
       "4"
      ]
     },
     "execution_count": 28,
     "metadata": {},
     "output_type": "execute_result"
    }
   ],
   "source": [
    "len(tables)"
   ]
  },
  {
   "cell_type": "code",
   "execution_count": 29,
   "id": "317b0da7-93a8-40e9-87a5-5dcf8e616d1c",
   "metadata": {},
   "outputs": [
    {
     "data": {
      "text/html": [
       "<div>\n",
       "<style scoped>\n",
       "    .dataframe tbody tr th:only-of-type {\n",
       "        vertical-align: middle;\n",
       "    }\n",
       "\n",
       "    .dataframe tbody tr th {\n",
       "        vertical-align: top;\n",
       "    }\n",
       "\n",
       "    .dataframe thead th {\n",
       "        text-align: right;\n",
       "    }\n",
       "</style>\n",
       "<table border=\"1\" class=\"dataframe\">\n",
       "  <thead>\n",
       "    <tr style=\"text-align: right;\">\n",
       "      <th></th>\n",
       "      <th>Country (or territory)</th>\n",
       "      <th>Capital</th>\n",
       "      <th>Population</th>\n",
       "      <th>% of country</th>\n",
       "      <th>Source</th>\n",
       "    </tr>\n",
       "  </thead>\n",
       "  <tbody>\n",
       "    <tr>\n",
       "      <th>0</th>\n",
       "      <td>China *</td>\n",
       "      <td>Beijing</td>\n",
       "      <td>21542000</td>\n",
       "      <td>NaN</td>\n",
       "      <td>[1] 2010</td>\n",
       "    </tr>\n",
       "    <tr>\n",
       "      <th>1</th>\n",
       "      <td>Japan *</td>\n",
       "      <td>Tokyo</td>\n",
       "      <td>13929286</td>\n",
       "      <td>NaN</td>\n",
       "      <td>[2] 2017</td>\n",
       "    </tr>\n",
       "    <tr>\n",
       "      <th>2</th>\n",
       "      <td>DR Congo</td>\n",
       "      <td>Kinshasa</td>\n",
       "      <td>12691000</td>\n",
       "      <td>NaN</td>\n",
       "      <td>[3] 2017</td>\n",
       "    </tr>\n",
       "    <tr>\n",
       "      <th>3</th>\n",
       "      <td>Russia *</td>\n",
       "      <td>Moscow</td>\n",
       "      <td>12506468</td>\n",
       "      <td>NaN</td>\n",
       "      <td>[4] 2011</td>\n",
       "    </tr>\n",
       "    <tr>\n",
       "      <th>4</th>\n",
       "      <td>Indonesia *</td>\n",
       "      <td>Jakarta</td>\n",
       "      <td>10075310</td>\n",
       "      <td>NaN</td>\n",
       "      <td>[5] 2011</td>\n",
       "    </tr>\n",
       "    <tr>\n",
       "      <th>...</th>\n",
       "      <td>...</td>\n",
       "      <td>...</td>\n",
       "      <td>...</td>\n",
       "      <td>...</td>\n",
       "      <td>...</td>\n",
       "    </tr>\n",
       "    <tr>\n",
       "      <th>235</th>\n",
       "      <td>Palau</td>\n",
       "      <td>Ngerulmud</td>\n",
       "      <td>271</td>\n",
       "      <td>NaN</td>\n",
       "      <td>NaN</td>\n",
       "    </tr>\n",
       "    <tr>\n",
       "      <th>236</th>\n",
       "      <td>Cocos (Keeling) Islands (Australia)</td>\n",
       "      <td>West Island</td>\n",
       "      <td>120</td>\n",
       "      <td>NaN</td>\n",
       "      <td>NaN</td>\n",
       "    </tr>\n",
       "    <tr>\n",
       "      <th>237</th>\n",
       "      <td>Pitcairn Islands (UK)</td>\n",
       "      <td>Adamstown</td>\n",
       "      <td>50</td>\n",
       "      <td>NaN</td>\n",
       "      <td>NaN</td>\n",
       "    </tr>\n",
       "    <tr>\n",
       "      <th>238</th>\n",
       "      <td>South Georgia and the South Sandwich Islands (UK)</td>\n",
       "      <td>King Edward Point</td>\n",
       "      <td>22</td>\n",
       "      <td>NaN</td>\n",
       "      <td>NaN</td>\n",
       "    </tr>\n",
       "    <tr>\n",
       "      <th>239</th>\n",
       "      <td>Norfolk Island (Australia)</td>\n",
       "      <td>Kingston (de facto)</td>\n",
       "      <td>NaN</td>\n",
       "      <td>NaN</td>\n",
       "      <td>[98]</td>\n",
       "    </tr>\n",
       "  </tbody>\n",
       "</table>\n",
       "<p>240 rows × 5 columns</p>\n",
       "</div>"
      ],
      "text/plain": [
       "                                Country (or territory)              Capital  \\\n",
       "0                                              China *              Beijing   \n",
       "1                                              Japan *                Tokyo   \n",
       "2                                             DR Congo             Kinshasa   \n",
       "3                                             Russia *               Moscow   \n",
       "4                                          Indonesia *              Jakarta   \n",
       "..                                                 ...                  ...   \n",
       "235                                              Palau            Ngerulmud   \n",
       "236                Cocos (Keeling) Islands (Australia)          West Island   \n",
       "237                              Pitcairn Islands (UK)            Adamstown   \n",
       "238  South Georgia and the South Sandwich Islands (UK)    King Edward Point   \n",
       "239                         Norfolk Island (Australia)  Kingston (de facto)   \n",
       "\n",
       "    Population % of country    Source  \n",
       "0     21542000          NaN  [1] 2010  \n",
       "1     13929286          NaN  [2] 2017  \n",
       "2     12691000          NaN  [3] 2017  \n",
       "3     12506468          NaN  [4] 2011  \n",
       "4     10075310          NaN  [5] 2011  \n",
       "..         ...          ...       ...  \n",
       "235        271          NaN       NaN  \n",
       "236        120          NaN       NaN  \n",
       "237         50          NaN       NaN  \n",
       "238         22          NaN       NaN  \n",
       "239        NaN          NaN      [98]  \n",
       "\n",
       "[240 rows x 5 columns]"
      ]
     },
     "execution_count": 29,
     "metadata": {},
     "output_type": "execute_result"
    }
   ],
   "source": [
    "tables[1]"
   ]
  },
  {
   "cell_type": "code",
   "execution_count": 30,
   "id": "f49980d5-91a3-4a7a-9470-dd0261cee1e7",
   "metadata": {},
   "outputs": [
    {
     "data": {
      "text/plain": [
       "Index(['Country (or territory)', 'Capital', 'Population', '% of country',\n",
       "       'Source'],\n",
       "      dtype='object')"
      ]
     },
     "execution_count": 30,
     "metadata": {},
     "output_type": "execute_result"
    }
   ],
   "source": [
    "tables[1].columns"
   ]
  },
  {
   "cell_type": "code",
   "execution_count": 35,
   "id": "11456078-7668-4950-bf1c-58abf0c4249b",
   "metadata": {},
   "outputs": [
    {
     "ename": "ValueError",
     "evalue": "No tables found",
     "output_type": "error",
     "traceback": [
      "\u001b[1;31m---------------------------------------------------------------------------\u001b[0m",
      "\u001b[1;31mValueError\u001b[0m                                Traceback (most recent call last)",
      "\u001b[1;32m<ipython-input-35-c2017af21215>\u001b[0m in \u001b[0;36m<module>\u001b[1;34m\u001b[0m\n\u001b[1;32m----> 1\u001b[1;33m \u001b[0mpd\u001b[0m\u001b[1;33m.\u001b[0m\u001b[0mread_html\u001b[0m\u001b[1;33m(\u001b[0m\u001b[0mbase_site\u001b[0m\u001b[1;33m,\u001b[0m \u001b[0mattrs\u001b[0m \u001b[1;33m=\u001b[0m \u001b[1;33m{\u001b[0m\u001b[1;34m\"class\"\u001b[0m\u001b[1;33m:\u001b[0m \u001b[1;34m\"navbox\"\u001b[0m\u001b[1;33m}\u001b[0m\u001b[1;33m)\u001b[0m\u001b[1;33m\u001b[0m\u001b[1;33m\u001b[0m\u001b[0m\n\u001b[0m",
      "\u001b[1;32m~\\anaconda3\\lib\\site-packages\\pandas\\util\\_decorators.py\u001b[0m in \u001b[0;36mwrapper\u001b[1;34m(*args, **kwargs)\u001b[0m\n\u001b[0;32m    297\u001b[0m                 )\n\u001b[0;32m    298\u001b[0m                 \u001b[0mwarnings\u001b[0m\u001b[1;33m.\u001b[0m\u001b[0mwarn\u001b[0m\u001b[1;33m(\u001b[0m\u001b[0mmsg\u001b[0m\u001b[1;33m,\u001b[0m \u001b[0mFutureWarning\u001b[0m\u001b[1;33m,\u001b[0m \u001b[0mstacklevel\u001b[0m\u001b[1;33m=\u001b[0m\u001b[0mstacklevel\u001b[0m\u001b[1;33m)\u001b[0m\u001b[1;33m\u001b[0m\u001b[1;33m\u001b[0m\u001b[0m\n\u001b[1;32m--> 299\u001b[1;33m             \u001b[1;32mreturn\u001b[0m \u001b[0mfunc\u001b[0m\u001b[1;33m(\u001b[0m\u001b[1;33m*\u001b[0m\u001b[0margs\u001b[0m\u001b[1;33m,\u001b[0m \u001b[1;33m**\u001b[0m\u001b[0mkwargs\u001b[0m\u001b[1;33m)\u001b[0m\u001b[1;33m\u001b[0m\u001b[1;33m\u001b[0m\u001b[0m\n\u001b[0m\u001b[0;32m    300\u001b[0m \u001b[1;33m\u001b[0m\u001b[0m\n\u001b[0;32m    301\u001b[0m         \u001b[1;32mreturn\u001b[0m \u001b[0mwrapper\u001b[0m\u001b[1;33m\u001b[0m\u001b[1;33m\u001b[0m\u001b[0m\n",
      "\u001b[1;32m~\\anaconda3\\lib\\site-packages\\pandas\\io\\html.py\u001b[0m in \u001b[0;36mread_html\u001b[1;34m(io, match, flavor, header, index_col, skiprows, attrs, parse_dates, thousands, encoding, decimal, converters, na_values, keep_default_na, displayed_only)\u001b[0m\n\u001b[0;32m   1083\u001b[0m     \u001b[0mio\u001b[0m \u001b[1;33m=\u001b[0m \u001b[0mstringify_path\u001b[0m\u001b[1;33m(\u001b[0m\u001b[0mio\u001b[0m\u001b[1;33m)\u001b[0m\u001b[1;33m\u001b[0m\u001b[1;33m\u001b[0m\u001b[0m\n\u001b[0;32m   1084\u001b[0m \u001b[1;33m\u001b[0m\u001b[0m\n\u001b[1;32m-> 1085\u001b[1;33m     return _parse(\n\u001b[0m\u001b[0;32m   1086\u001b[0m         \u001b[0mflavor\u001b[0m\u001b[1;33m=\u001b[0m\u001b[0mflavor\u001b[0m\u001b[1;33m,\u001b[0m\u001b[1;33m\u001b[0m\u001b[1;33m\u001b[0m\u001b[0m\n\u001b[0;32m   1087\u001b[0m         \u001b[0mio\u001b[0m\u001b[1;33m=\u001b[0m\u001b[0mio\u001b[0m\u001b[1;33m,\u001b[0m\u001b[1;33m\u001b[0m\u001b[1;33m\u001b[0m\u001b[0m\n",
      "\u001b[1;32m~\\anaconda3\\lib\\site-packages\\pandas\\io\\html.py\u001b[0m in \u001b[0;36m_parse\u001b[1;34m(flavor, io, match, attrs, encoding, displayed_only, **kwargs)\u001b[0m\n\u001b[0;32m    911\u001b[0m     \u001b[1;32melse\u001b[0m\u001b[1;33m:\u001b[0m\u001b[1;33m\u001b[0m\u001b[1;33m\u001b[0m\u001b[0m\n\u001b[0;32m    912\u001b[0m         \u001b[1;32massert\u001b[0m \u001b[0mretained\u001b[0m \u001b[1;32mis\u001b[0m \u001b[1;32mnot\u001b[0m \u001b[1;32mNone\u001b[0m  \u001b[1;31m# for mypy\u001b[0m\u001b[1;33m\u001b[0m\u001b[1;33m\u001b[0m\u001b[0m\n\u001b[1;32m--> 913\u001b[1;33m         \u001b[1;32mraise\u001b[0m \u001b[0mretained\u001b[0m\u001b[1;33m\u001b[0m\u001b[1;33m\u001b[0m\u001b[0m\n\u001b[0m\u001b[0;32m    914\u001b[0m \u001b[1;33m\u001b[0m\u001b[0m\n\u001b[0;32m    915\u001b[0m     \u001b[0mret\u001b[0m \u001b[1;33m=\u001b[0m \u001b[1;33m[\u001b[0m\u001b[1;33m]\u001b[0m\u001b[1;33m\u001b[0m\u001b[1;33m\u001b[0m\u001b[0m\n",
      "\u001b[1;32m~\\anaconda3\\lib\\site-packages\\pandas\\io\\html.py\u001b[0m in \u001b[0;36m_parse\u001b[1;34m(flavor, io, match, attrs, encoding, displayed_only, **kwargs)\u001b[0m\n\u001b[0;32m    891\u001b[0m \u001b[1;33m\u001b[0m\u001b[0m\n\u001b[0;32m    892\u001b[0m         \u001b[1;32mtry\u001b[0m\u001b[1;33m:\u001b[0m\u001b[1;33m\u001b[0m\u001b[1;33m\u001b[0m\u001b[0m\n\u001b[1;32m--> 893\u001b[1;33m             \u001b[0mtables\u001b[0m \u001b[1;33m=\u001b[0m \u001b[0mp\u001b[0m\u001b[1;33m.\u001b[0m\u001b[0mparse_tables\u001b[0m\u001b[1;33m(\u001b[0m\u001b[1;33m)\u001b[0m\u001b[1;33m\u001b[0m\u001b[1;33m\u001b[0m\u001b[0m\n\u001b[0m\u001b[0;32m    894\u001b[0m         \u001b[1;32mexcept\u001b[0m \u001b[0mValueError\u001b[0m \u001b[1;32mas\u001b[0m \u001b[0mcaught\u001b[0m\u001b[1;33m:\u001b[0m\u001b[1;33m\u001b[0m\u001b[1;33m\u001b[0m\u001b[0m\n\u001b[0;32m    895\u001b[0m             \u001b[1;31m# if `io` is an io-like object, check if it's seekable\u001b[0m\u001b[1;33m\u001b[0m\u001b[1;33m\u001b[0m\u001b[1;33m\u001b[0m\u001b[0m\n",
      "\u001b[1;32m~\\anaconda3\\lib\\site-packages\\pandas\\io\\html.py\u001b[0m in \u001b[0;36mparse_tables\u001b[1;34m(self)\u001b[0m\n\u001b[0;32m    211\u001b[0m         \u001b[0mlist\u001b[0m \u001b[0mof\u001b[0m \u001b[0mparsed\u001b[0m \u001b[1;33m(\u001b[0m\u001b[0mheader\u001b[0m\u001b[1;33m,\u001b[0m \u001b[0mbody\u001b[0m\u001b[1;33m,\u001b[0m \u001b[0mfooter\u001b[0m\u001b[1;33m)\u001b[0m \u001b[0mtuples\u001b[0m \u001b[1;32mfrom\u001b[0m \u001b[0mtables\u001b[0m\u001b[1;33m.\u001b[0m\u001b[1;33m\u001b[0m\u001b[1;33m\u001b[0m\u001b[0m\n\u001b[0;32m    212\u001b[0m         \"\"\"\n\u001b[1;32m--> 213\u001b[1;33m         \u001b[0mtables\u001b[0m \u001b[1;33m=\u001b[0m \u001b[0mself\u001b[0m\u001b[1;33m.\u001b[0m\u001b[0m_parse_tables\u001b[0m\u001b[1;33m(\u001b[0m\u001b[0mself\u001b[0m\u001b[1;33m.\u001b[0m\u001b[0m_build_doc\u001b[0m\u001b[1;33m(\u001b[0m\u001b[1;33m)\u001b[0m\u001b[1;33m,\u001b[0m \u001b[0mself\u001b[0m\u001b[1;33m.\u001b[0m\u001b[0mmatch\u001b[0m\u001b[1;33m,\u001b[0m \u001b[0mself\u001b[0m\u001b[1;33m.\u001b[0m\u001b[0mattrs\u001b[0m\u001b[1;33m)\u001b[0m\u001b[1;33m\u001b[0m\u001b[1;33m\u001b[0m\u001b[0m\n\u001b[0m\u001b[0;32m    214\u001b[0m         \u001b[1;32mreturn\u001b[0m \u001b[1;33m(\u001b[0m\u001b[0mself\u001b[0m\u001b[1;33m.\u001b[0m\u001b[0m_parse_thead_tbody_tfoot\u001b[0m\u001b[1;33m(\u001b[0m\u001b[0mtable\u001b[0m\u001b[1;33m)\u001b[0m \u001b[1;32mfor\u001b[0m \u001b[0mtable\u001b[0m \u001b[1;32min\u001b[0m \u001b[0mtables\u001b[0m\u001b[1;33m)\u001b[0m\u001b[1;33m\u001b[0m\u001b[1;33m\u001b[0m\u001b[0m\n\u001b[0;32m    215\u001b[0m \u001b[1;33m\u001b[0m\u001b[0m\n",
      "\u001b[1;32m~\\anaconda3\\lib\\site-packages\\pandas\\io\\html.py\u001b[0m in \u001b[0;36m_parse_tables\u001b[1;34m(self, doc, match, attrs)\u001b[0m\n\u001b[0;32m    541\u001b[0m \u001b[1;33m\u001b[0m\u001b[0m\n\u001b[0;32m    542\u001b[0m         \u001b[1;32mif\u001b[0m \u001b[1;32mnot\u001b[0m \u001b[0mtables\u001b[0m\u001b[1;33m:\u001b[0m\u001b[1;33m\u001b[0m\u001b[1;33m\u001b[0m\u001b[0m\n\u001b[1;32m--> 543\u001b[1;33m             \u001b[1;32mraise\u001b[0m \u001b[0mValueError\u001b[0m\u001b[1;33m(\u001b[0m\u001b[1;34m\"No tables found\"\u001b[0m\u001b[1;33m)\u001b[0m\u001b[1;33m\u001b[0m\u001b[1;33m\u001b[0m\u001b[0m\n\u001b[0m\u001b[0;32m    544\u001b[0m \u001b[1;33m\u001b[0m\u001b[0m\n\u001b[0;32m    545\u001b[0m         \u001b[0mresult\u001b[0m \u001b[1;33m=\u001b[0m \u001b[1;33m[\u001b[0m\u001b[1;33m]\u001b[0m\u001b[1;33m\u001b[0m\u001b[1;33m\u001b[0m\u001b[0m\n",
      "\u001b[1;31mValueError\u001b[0m: No tables found"
     ]
    }
   ],
   "source": [
    "pd.read_html(base_site, attrs = {\"class\": \"navbox\"})"
   ]
  },
  {
   "cell_type": "code",
   "execution_count": 36,
   "id": "55df2a0f-0cce-4252-94f8-1b06fa84c487",
   "metadata": {},
   "outputs": [
    {
     "ename": "ValueError",
     "evalue": "No tables found",
     "output_type": "error",
     "traceback": [
      "\u001b[1;31m---------------------------------------------------------------------------\u001b[0m",
      "\u001b[1;31mValueError\u001b[0m                                Traceback (most recent call last)",
      "\u001b[1;32m<ipython-input-36-2b2bd97d7fad>\u001b[0m in \u001b[0;36m<module>\u001b[1;34m\u001b[0m\n\u001b[1;32m----> 1\u001b[1;33m \u001b[0mpd\u001b[0m\u001b[1;33m.\u001b[0m\u001b[0mread_html\u001b[0m\u001b[1;33m(\u001b[0m\u001b[0mhtml\u001b[0m\u001b[1;33m,\u001b[0m \u001b[0mattrs\u001b[0m \u001b[1;33m=\u001b[0m \u001b[1;33m{\u001b[0m\u001b[1;34m\"class\"\u001b[0m\u001b[1;33m:\u001b[0m \u001b[1;34m\"wikitable sortable\"\u001b[0m\u001b[1;33m}\u001b[0m\u001b[1;33m)\u001b[0m\u001b[1;33m\u001b[0m\u001b[1;33m\u001b[0m\u001b[0m\n\u001b[0m",
      "\u001b[1;32m~\\anaconda3\\lib\\site-packages\\pandas\\util\\_decorators.py\u001b[0m in \u001b[0;36mwrapper\u001b[1;34m(*args, **kwargs)\u001b[0m\n\u001b[0;32m    297\u001b[0m                 )\n\u001b[0;32m    298\u001b[0m                 \u001b[0mwarnings\u001b[0m\u001b[1;33m.\u001b[0m\u001b[0mwarn\u001b[0m\u001b[1;33m(\u001b[0m\u001b[0mmsg\u001b[0m\u001b[1;33m,\u001b[0m \u001b[0mFutureWarning\u001b[0m\u001b[1;33m,\u001b[0m \u001b[0mstacklevel\u001b[0m\u001b[1;33m=\u001b[0m\u001b[0mstacklevel\u001b[0m\u001b[1;33m)\u001b[0m\u001b[1;33m\u001b[0m\u001b[1;33m\u001b[0m\u001b[0m\n\u001b[1;32m--> 299\u001b[1;33m             \u001b[1;32mreturn\u001b[0m \u001b[0mfunc\u001b[0m\u001b[1;33m(\u001b[0m\u001b[1;33m*\u001b[0m\u001b[0margs\u001b[0m\u001b[1;33m,\u001b[0m \u001b[1;33m**\u001b[0m\u001b[0mkwargs\u001b[0m\u001b[1;33m)\u001b[0m\u001b[1;33m\u001b[0m\u001b[1;33m\u001b[0m\u001b[0m\n\u001b[0m\u001b[0;32m    300\u001b[0m \u001b[1;33m\u001b[0m\u001b[0m\n\u001b[0;32m    301\u001b[0m         \u001b[1;32mreturn\u001b[0m \u001b[0mwrapper\u001b[0m\u001b[1;33m\u001b[0m\u001b[1;33m\u001b[0m\u001b[0m\n",
      "\u001b[1;32m~\\anaconda3\\lib\\site-packages\\pandas\\io\\html.py\u001b[0m in \u001b[0;36mread_html\u001b[1;34m(io, match, flavor, header, index_col, skiprows, attrs, parse_dates, thousands, encoding, decimal, converters, na_values, keep_default_na, displayed_only)\u001b[0m\n\u001b[0;32m   1083\u001b[0m     \u001b[0mio\u001b[0m \u001b[1;33m=\u001b[0m \u001b[0mstringify_path\u001b[0m\u001b[1;33m(\u001b[0m\u001b[0mio\u001b[0m\u001b[1;33m)\u001b[0m\u001b[1;33m\u001b[0m\u001b[1;33m\u001b[0m\u001b[0m\n\u001b[0;32m   1084\u001b[0m \u001b[1;33m\u001b[0m\u001b[0m\n\u001b[1;32m-> 1085\u001b[1;33m     return _parse(\n\u001b[0m\u001b[0;32m   1086\u001b[0m         \u001b[0mflavor\u001b[0m\u001b[1;33m=\u001b[0m\u001b[0mflavor\u001b[0m\u001b[1;33m,\u001b[0m\u001b[1;33m\u001b[0m\u001b[1;33m\u001b[0m\u001b[0m\n\u001b[0;32m   1087\u001b[0m         \u001b[0mio\u001b[0m\u001b[1;33m=\u001b[0m\u001b[0mio\u001b[0m\u001b[1;33m,\u001b[0m\u001b[1;33m\u001b[0m\u001b[1;33m\u001b[0m\u001b[0m\n",
      "\u001b[1;32m~\\anaconda3\\lib\\site-packages\\pandas\\io\\html.py\u001b[0m in \u001b[0;36m_parse\u001b[1;34m(flavor, io, match, attrs, encoding, displayed_only, **kwargs)\u001b[0m\n\u001b[0;32m    911\u001b[0m     \u001b[1;32melse\u001b[0m\u001b[1;33m:\u001b[0m\u001b[1;33m\u001b[0m\u001b[1;33m\u001b[0m\u001b[0m\n\u001b[0;32m    912\u001b[0m         \u001b[1;32massert\u001b[0m \u001b[0mretained\u001b[0m \u001b[1;32mis\u001b[0m \u001b[1;32mnot\u001b[0m \u001b[1;32mNone\u001b[0m  \u001b[1;31m# for mypy\u001b[0m\u001b[1;33m\u001b[0m\u001b[1;33m\u001b[0m\u001b[0m\n\u001b[1;32m--> 913\u001b[1;33m         \u001b[1;32mraise\u001b[0m \u001b[0mretained\u001b[0m\u001b[1;33m\u001b[0m\u001b[1;33m\u001b[0m\u001b[0m\n\u001b[0m\u001b[0;32m    914\u001b[0m \u001b[1;33m\u001b[0m\u001b[0m\n\u001b[0;32m    915\u001b[0m     \u001b[0mret\u001b[0m \u001b[1;33m=\u001b[0m \u001b[1;33m[\u001b[0m\u001b[1;33m]\u001b[0m\u001b[1;33m\u001b[0m\u001b[1;33m\u001b[0m\u001b[0m\n",
      "\u001b[1;32m~\\anaconda3\\lib\\site-packages\\pandas\\io\\html.py\u001b[0m in \u001b[0;36m_parse\u001b[1;34m(flavor, io, match, attrs, encoding, displayed_only, **kwargs)\u001b[0m\n\u001b[0;32m    891\u001b[0m \u001b[1;33m\u001b[0m\u001b[0m\n\u001b[0;32m    892\u001b[0m         \u001b[1;32mtry\u001b[0m\u001b[1;33m:\u001b[0m\u001b[1;33m\u001b[0m\u001b[1;33m\u001b[0m\u001b[0m\n\u001b[1;32m--> 893\u001b[1;33m             \u001b[0mtables\u001b[0m \u001b[1;33m=\u001b[0m \u001b[0mp\u001b[0m\u001b[1;33m.\u001b[0m\u001b[0mparse_tables\u001b[0m\u001b[1;33m(\u001b[0m\u001b[1;33m)\u001b[0m\u001b[1;33m\u001b[0m\u001b[1;33m\u001b[0m\u001b[0m\n\u001b[0m\u001b[0;32m    894\u001b[0m         \u001b[1;32mexcept\u001b[0m \u001b[0mValueError\u001b[0m \u001b[1;32mas\u001b[0m \u001b[0mcaught\u001b[0m\u001b[1;33m:\u001b[0m\u001b[1;33m\u001b[0m\u001b[1;33m\u001b[0m\u001b[0m\n\u001b[0;32m    895\u001b[0m             \u001b[1;31m# if `io` is an io-like object, check if it's seekable\u001b[0m\u001b[1;33m\u001b[0m\u001b[1;33m\u001b[0m\u001b[1;33m\u001b[0m\u001b[0m\n",
      "\u001b[1;32m~\\anaconda3\\lib\\site-packages\\pandas\\io\\html.py\u001b[0m in \u001b[0;36mparse_tables\u001b[1;34m(self)\u001b[0m\n\u001b[0;32m    211\u001b[0m         \u001b[0mlist\u001b[0m \u001b[0mof\u001b[0m \u001b[0mparsed\u001b[0m \u001b[1;33m(\u001b[0m\u001b[0mheader\u001b[0m\u001b[1;33m,\u001b[0m \u001b[0mbody\u001b[0m\u001b[1;33m,\u001b[0m \u001b[0mfooter\u001b[0m\u001b[1;33m)\u001b[0m \u001b[0mtuples\u001b[0m \u001b[1;32mfrom\u001b[0m \u001b[0mtables\u001b[0m\u001b[1;33m.\u001b[0m\u001b[1;33m\u001b[0m\u001b[1;33m\u001b[0m\u001b[0m\n\u001b[0;32m    212\u001b[0m         \"\"\"\n\u001b[1;32m--> 213\u001b[1;33m         \u001b[0mtables\u001b[0m \u001b[1;33m=\u001b[0m \u001b[0mself\u001b[0m\u001b[1;33m.\u001b[0m\u001b[0m_parse_tables\u001b[0m\u001b[1;33m(\u001b[0m\u001b[0mself\u001b[0m\u001b[1;33m.\u001b[0m\u001b[0m_build_doc\u001b[0m\u001b[1;33m(\u001b[0m\u001b[1;33m)\u001b[0m\u001b[1;33m,\u001b[0m \u001b[0mself\u001b[0m\u001b[1;33m.\u001b[0m\u001b[0mmatch\u001b[0m\u001b[1;33m,\u001b[0m \u001b[0mself\u001b[0m\u001b[1;33m.\u001b[0m\u001b[0mattrs\u001b[0m\u001b[1;33m)\u001b[0m\u001b[1;33m\u001b[0m\u001b[1;33m\u001b[0m\u001b[0m\n\u001b[0m\u001b[0;32m    214\u001b[0m         \u001b[1;32mreturn\u001b[0m \u001b[1;33m(\u001b[0m\u001b[0mself\u001b[0m\u001b[1;33m.\u001b[0m\u001b[0m_parse_thead_tbody_tfoot\u001b[0m\u001b[1;33m(\u001b[0m\u001b[0mtable\u001b[0m\u001b[1;33m)\u001b[0m \u001b[1;32mfor\u001b[0m \u001b[0mtable\u001b[0m \u001b[1;32min\u001b[0m \u001b[0mtables\u001b[0m\u001b[1;33m)\u001b[0m\u001b[1;33m\u001b[0m\u001b[1;33m\u001b[0m\u001b[0m\n\u001b[0;32m    215\u001b[0m \u001b[1;33m\u001b[0m\u001b[0m\n",
      "\u001b[1;32m~\\anaconda3\\lib\\site-packages\\pandas\\io\\html.py\u001b[0m in \u001b[0;36m_parse_tables\u001b[1;34m(self, doc, match, attrs)\u001b[0m\n\u001b[0;32m    541\u001b[0m \u001b[1;33m\u001b[0m\u001b[0m\n\u001b[0;32m    542\u001b[0m         \u001b[1;32mif\u001b[0m \u001b[1;32mnot\u001b[0m \u001b[0mtables\u001b[0m\u001b[1;33m:\u001b[0m\u001b[1;33m\u001b[0m\u001b[1;33m\u001b[0m\u001b[0m\n\u001b[1;32m--> 543\u001b[1;33m             \u001b[1;32mraise\u001b[0m \u001b[0mValueError\u001b[0m\u001b[1;33m(\u001b[0m\u001b[1;34m\"No tables found\"\u001b[0m\u001b[1;33m)\u001b[0m\u001b[1;33m\u001b[0m\u001b[1;33m\u001b[0m\u001b[0m\n\u001b[0m\u001b[0;32m    544\u001b[0m \u001b[1;33m\u001b[0m\u001b[0m\n\u001b[0;32m    545\u001b[0m         \u001b[0mresult\u001b[0m \u001b[1;33m=\u001b[0m \u001b[1;33m[\u001b[0m\u001b[1;33m]\u001b[0m\u001b[1;33m\u001b[0m\u001b[1;33m\u001b[0m\u001b[0m\n",
      "\u001b[1;31mValueError\u001b[0m: No tables found"
     ]
    }
   ],
   "source": [
    "pd.read_html(html, attrs = {\"class\": \"wikitable sortable\"})"
   ]
  },
  {
   "cell_type": "code",
   "execution_count": 37,
   "id": "8e23c68c-c5ad-437f-a8b7-67496bca3db9",
   "metadata": {},
   "outputs": [],
   "source": [
    "import requests"
   ]
  },
  {
   "cell_type": "code",
   "execution_count": 38,
   "id": "acaa4dd5-bc29-4a66-aa5b-011f2f179a8b",
   "metadata": {},
   "outputs": [],
   "source": [
    "headers ={\n",
    "    \"User-Agent\": \"Mozilla/5.0 (Windows NT 10.0; Win64; x64) AppleWebKit/537.36 (KHTML, like Gecko) Chrome/95.0.4638.69 Safari/537.36\"\n",
    "}"
   ]
  },
  {
   "cell_type": "code",
   "execution_count": 40,
   "id": "c942f5b9-8b87-4a50-b637-2e6c4e162a2e",
   "metadata": {},
   "outputs": [
    {
     "data": {
      "text/plain": [
       "200"
      ]
     },
     "execution_count": 40,
     "metadata": {},
     "output_type": "execute_result"
    }
   ],
   "source": [
    "r = requests.get(\"https://www.youtube.com/\", headers = headers)\n",
    "r.status_code"
   ]
  },
  {
   "cell_type": "code",
   "execution_count": 44,
   "id": "2c6df6d5-3b40-4c0e-9e73-2fcfd2141cd3",
   "metadata": {},
   "outputs": [],
   "source": [
    "import requests"
   ]
  },
  {
   "cell_type": "code",
   "execution_count": 43,
   "id": "41d29d85-716a-44ba-b504-405b7cf657bd",
   "metadata": {},
   "outputs": [
    {
     "ename": "NameError",
     "evalue": "name 'url_1' is not defined",
     "output_type": "error",
     "traceback": [
      "\u001b[1;31m---------------------------------------------------------------------------\u001b[0m",
      "\u001b[1;31mNameError\u001b[0m                                 Traceback (most recent call last)",
      "\u001b[1;32m<ipython-input-43-ad6efdc78008>\u001b[0m in \u001b[0;36m<module>\u001b[1;34m\u001b[0m\n\u001b[0;32m      2\u001b[0m \u001b[1;33m\u001b[0m\u001b[0m\n\u001b[0;32m      3\u001b[0m \u001b[1;33m\u001b[0m\u001b[0m\n\u001b[1;32m----> 4\u001b[1;33m \u001b[0mr_1\u001b[0m \u001b[1;33m=\u001b[0m \u001b[0ms\u001b[0m\u001b[1;33m.\u001b[0m\u001b[0mpost\u001b[0m\u001b[1;33m(\u001b[0m\u001b[0murl_1\u001b[0m\u001b[1;33m,\u001b[0m \u001b[0mdata\u001b[0m \u001b[1;33m=\u001b[0m \u001b[0mpayload\u001b[0m\u001b[1;33m)\u001b[0m   \u001b[1;31m# Request made through that session\u001b[0m\u001b[1;33m\u001b[0m\u001b[1;33m\u001b[0m\u001b[0m\n\u001b[0m\u001b[0;32m      5\u001b[0m \u001b[0mr_2\u001b[0m \u001b[1;33m=\u001b[0m \u001b[0ms\u001b[0m\u001b[1;33m.\u001b[0m\u001b[0mget\u001b[0m\u001b[1;33m(\u001b[0m\u001b[0murl_2\u001b[0m\u001b[1;33m)\u001b[0m                    \u001b[1;31m# Request made through that session\u001b[0m\u001b[1;33m\u001b[0m\u001b[1;33m\u001b[0m\u001b[0m\n\u001b[0;32m      6\u001b[0m \u001b[1;33m\u001b[0m\u001b[0m\n",
      "\u001b[1;31mNameError\u001b[0m: name 'url_1' is not defined"
     ]
    }
   ],
   "source": [
    "s = requests.Session()   # initialize a session\n",
    "\n",
    "\n",
    "r_1 = s.post(url_1, data = payload)   # Request made through that session\n",
    "r_2 = s.get(url_2)                    # Request made through that session\n",
    "\n",
    "s.close()            # close the session"
   ]
  },
  {
   "cell_type": "code",
   "execution_count": 45,
   "id": "7a45caac-8961-4a0e-9cdd-e28b0f5af5cc",
   "metadata": {},
   "outputs": [
    {
     "ename": "SyntaxError",
     "evalue": "invalid character in identifier (<ipython-input-45-e73a95463cce>, line 1)",
     "output_type": "error",
     "traceback": [
      "\u001b[1;36m  File \u001b[1;32m\"<ipython-input-45-e73a95463cce>\"\u001b[1;36m, line \u001b[1;32m1\u001b[0m\n\u001b[1;33m    url = “https://www.nytimes.com”\u001b[0m\n\u001b[1;37m               ^\u001b[0m\n\u001b[1;31mSyntaxError\u001b[0m\u001b[1;31m:\u001b[0m invalid character in identifier\n"
     ]
    }
   ],
   "source": [
    "url = “https://www.nytimes.com”\n",
    "html = urllib.request.urlopen(url, context=ctx).read()\n",
    "soup = BeautifulSoup(html, ‘html.parser’)"
   ]
  },
  {
   "cell_type": "code",
   "execution_count": null,
   "id": "4314a898-3c3e-4c22-abdb-85d56594a6d4",
   "metadata": {},
   "outputs": [],
   "source": []
  }
 ],
 "metadata": {
  "kernelspec": {
   "display_name": "Python 3",
   "language": "python",
   "name": "python3"
  },
  "language_info": {
   "codemirror_mode": {
    "name": "ipython",
    "version": 3
   },
   "file_extension": ".py",
   "mimetype": "text/x-python",
   "name": "python",
   "nbconvert_exporter": "python",
   "pygments_lexer": "ipython3",
   "version": "3.8.8"
  }
 },
 "nbformat": 4,
 "nbformat_minor": 5
}
